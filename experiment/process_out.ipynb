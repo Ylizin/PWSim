{
 "cells": [
  {
   "cell_type": "code",
   "execution_count": 2,
   "metadata": {},
   "outputs": [],
   "source": [
    "import pandas as pd"
   ]
  },
  {
   "cell_type": "code",
   "execution_count": 2,
   "metadata": {},
   "outputs": [],
   "source": [
    "model_str = 'TagBertEval_topic'\n",
    "tables = [pd.read_csv('./out/'+model_str+str(i)+'.csv') for i in range(5)]\n",
    "tt = pd.concat(tables)\n",
    "tt['index'] = tt.index\n",
    "tt.groupby('index').mean().to_csv(model_str+'.csv',index = None)"
   ]
  },
  {
   "cell_type": "code",
   "execution_count": 3,
   "metadata": {},
   "outputs": [
    {
     "name": "stdout",
     "output_type": "stream",
     "text": [
      "Unnamed: 0    29.200000\n",
      "p_5            0.374855\n",
      "p_10           0.393971\n",
      "p_15           0.431015\n",
      "p_20           0.466617\n",
      "r_5            0.275337\n",
      "r_10           0.347192\n",
      "r_15           0.403753\n",
      "r_20           0.448342\n",
      "f_5            0.297197\n",
      "f_10           0.358815\n",
      "f_15           0.410825\n",
      "f_20           0.453220\n",
      "n_5            0.431234\n",
      "n_10           0.464798\n",
      "n_15           0.506932\n",
      "n_20           0.542968\n",
      "dtype: float64\n"
     ]
    }
   ],
   "source": [
    "model_str = 'topic_att'\n",
    "tables = [pd.read_csv('./out/'+model_str+str(i)+'.csv') for i in range(5)]\n",
    "tt = pd.concat(tables)\n",
    "tt['index'] = tt.index\n",
    "tt.groupby('index').mean().to_csv(model_str+'0.csv',index = None)\n",
    "tables = [df.loc[df.f_5.idxmax()] for df in tables]\n",
    "max_f5=pd.DataFrame(tables)\n",
    "print(max_f5.mean())\n",
    "max_f5.to_csv(model_str+'1.csv',index=None)"
   ]
  },
  {
   "cell_type": "code",
   "execution_count": 4,
   "metadata": {},
   "outputs": [
    {
     "name": "stdout",
     "output_type": "stream",
     "text": [
      "Unnamed: 0    31.000000\n",
      "p_5            0.420091\n",
      "p_10           0.450192\n",
      "p_15           0.492113\n",
      "p_20           0.524254\n",
      "r_5            0.308036\n",
      "r_10           0.397323\n",
      "r_15           0.461356\n",
      "r_20           0.503183\n",
      "f_5            0.333606\n",
      "f_10           0.410706\n",
      "f_15           0.469337\n",
      "f_20           0.508814\n",
      "n_5            0.475240\n",
      "n_10           0.516698\n",
      "n_15           0.561566\n",
      "n_20           0.596161\n",
      "dtype: float64\n"
     ]
    }
   ],
   "source": [
    "model_str = 'topic_att_goal'\n",
    "tables = [pd.read_csv('./out/'+model_str+str(i)+'.csv') for i in range(5)]\n",
    "tt = pd.concat(tables)\n",
    "tt['index'] = tt.index\n",
    "tt.groupby('index').mean().to_csv(model_str+'0.csv',index = None)\n",
    "tables = [df.loc[df.f_5.idxmax()] for df in tables]\n",
    "max_f5=pd.DataFrame(tables)\n",
    "print(max_f5.mean())\n",
    "max_f5.to_csv(model_str+'1.csv',index=None)\n",
    "# 取最大值\n",
    "# tables = [df.loc[df.f.idxmax()] for df in tables]\n",
    "# pd.DataFrame(tables).mean()"
   ]
  },
  {
   "cell_type": "code",
   "execution_count": 3,
   "metadata": {},
   "outputs": [],
   "source": [
    "model_str = 'TagLSTMEval'\n",
    "tables = [pd.read_csv('./out/'+model_str+str(i)+'.csv') for i in range(5)]\n",
    "tt = pd.concat(tables)\n",
    "tt['index'] = tt.index\n",
    "tt.groupby('index').mean().to_csv(model_str+'0.csv',index = None)\n",
    "tables = [df.loc[df.f_5.idxmax()] for df in tables]\n",
    "max_f5=pd.DataFrame(tables)\n",
    "print(max_f5.mean())\n",
    "max_f5.to_csv(model_str+'1.csv',index=None)"
   ]
  },
  {
   "cell_type": "code",
   "execution_count": null,
   "metadata": {},
   "outputs": [],
   "source": [
    "model_str = 'TagLSTMEval_ave'\n",
    "tables = [pd.read_csv('./out/'+model_str+str(i)+'.csv') for i in range(5)]\n",
    "tt = pd.concat(tables)\n",
    "tt['index'] = tt.index\n",
    "tt.groupby('index').mean().to_csv(model_str+'0.csv',index = None)\n",
    "tables = [df.loc[df.f_5.idxmax()] for df in tables]\n",
    "max_f5=pd.DataFrame(tables)\n",
    "print(max_f5.mean())\n",
    "max_f5.to_csv(model_str+'1.csv',index=None)"
   ]
  },
  {
   "cell_type": "code",
   "execution_count": 2,
   "metadata": {},
   "outputs": [],
   "source": [
    "model_str = 'TagESIMLSTMEval'\n",
    "tables = [pd.read_csv('./out/'+model_str+str(i)+'.csv') for i in range(5)]\n",
    "tt = pd.concat(tables)\n",
    "tt['index'] = tt.index\n",
    "tt.groupby('index').mean().to_csv(model_str+'.csv',index = None)"
   ]
  },
  {
   "cell_type": "code",
   "execution_count": 3,
   "metadata": {},
   "outputs": [],
   "source": [
    "model_str = 'TagMVLSTMEval'\n",
    "tables = [pd.read_csv('./out/'+model_str+str(i)+'.csv') for i in range(5)]\n",
    "tt = pd.concat(tables)\n",
    "tt['index'] = tt.index\n",
    "tt.groupby('index').mean().to_csv(model_str+'.csv',index = None)"
   ]
  },
  {
   "cell_type": "code",
   "execution_count": 14,
   "metadata": {},
   "outputs": [],
   "source": [
    "model_str = 'TagLSTMEval_ave'\n",
    "tables = [pd.read_csv('./out/'+model_str+str(i)+'.csv') for i in range(5)]\n",
    "tt = pd.concat(tables)\n",
    "tt['index'] = tt.index\n",
    "tt.groupby('index').mean().to_csv(model_str+'.csv',index = None)"
   ]
  },
  {
   "cell_type": "code",
   "execution_count": null,
   "metadata": {},
   "outputs": [],
   "source": [
    "from eval.trainVAE import VAEEval"
   ]
  },
  {
   "cell_type": "code",
   "execution_count": null,
   "metadata": {},
   "outputs": [],
   "source": [
    "v = VAEEval()"
   ]
  },
  {
   "cell_type": "code",
   "execution_count": null,
   "metadata": {},
   "outputs": [],
   "source": [
    "v.train()"
   ]
  },
  {
   "cell_type": "code",
   "execution_count": null,
   "metadata": {},
   "outputs": [],
   "source": [
    "from eval.TFIDF import TFIDFEval"
   ]
  },
  {
   "cell_type": "code",
   "execution_count": null,
   "metadata": {},
   "outputs": [],
   "source": [
    "tf = TFIDFEval()"
   ]
  },
  {
   "cell_type": "code",
   "execution_count": null,
   "metadata": {},
   "outputs": [],
   "source": [
    "import pickle\n",
    "pickle.dump(tf.tfidf.idfs,open('idfs','wb'))"
   ]
  },
  {
   "cell_type": "code",
   "execution_count": null,
   "metadata": {},
   "outputs": [],
   "source": [
    "tf.train()"
   ]
  },
  {
   "cell_type": "code",
   "execution_count": null,
   "metadata": {},
   "outputs": [],
   "source": [
    "from eval.TagCNNEval import CNNEval"
   ]
  },
  {
   "cell_type": "code",
   "execution_count": null,
   "metadata": {},
   "outputs": [],
   "source": [
    "t = CNNEval()"
   ]
  },
  {
   "cell_type": "code",
   "execution_count": null,
   "metadata": {},
   "outputs": [],
   "source": [
    "t.train()"
   ]
  },
  {
   "cell_type": "code",
   "execution_count": null,
   "metadata": {},
   "outputs": [],
   "source": [
    "d = load_dict()"
   ]
  },
  {
   "cell_type": "code",
   "execution_count": null,
   "metadata": {},
   "outputs": [],
   "source": [
    "save_dict(d)"
   ]
  },
  {
   "cell_type": "code",
   "execution_count": null,
   "metadata": {},
   "outputs": [],
   "source": [
    "len(d)"
   ]
  },
  {
   "cell_type": "code",
   "execution_count": null,
   "metadata": {},
   "outputs": [],
   "source": [
    "save_w2v(init_w2v(d,pre_model = load_pre_w2v()))"
   ]
  },
  {
   "cell_type": "code",
   "execution_count": null,
   "metadata": {},
   "outputs": [],
   "source": [
    "from eval.WMD import WMDEval\n",
    "t = WMDEval()"
   ]
  },
  {
   "cell_type": "code",
   "execution_count": null,
   "metadata": {},
   "outputs": [],
   "source": [
    "t.train()"
   ]
  },
  {
   "cell_type": "code",
   "execution_count": 2,
   "metadata": {},
   "outputs": [],
   "source": [
    "import torch"
   ]
  },
  {
   "cell_type": "code",
   "execution_count": null,
   "metadata": {},
   "outputs": [],
   "source": [
    "t.feature_extractor.embedding.embedding(torch.tensor([0],device = 'cuda:0'))"
   ]
  },
  {
   "cell_type": "code",
   "execution_count": 1,
   "metadata": {},
   "outputs": [],
   "source": [
    "from eval.TagLSTMEval import LSTMEval\n",
    "t = LSTMEval()"
   ]
  },
  {
   "cell_type": "code",
   "execution_count": null,
   "metadata": {},
   "outputs": [],
   "source": [
    "t.train()"
   ]
  },
  {
   "cell_type": "code",
   "execution_count": 6,
   "metadata": {},
   "outputs": [],
   "source": [
    "for id1,id2,l in model.train_data_loader:\n",
    "    break\n",
    "in1 = model.get_BoWs(id1)    \n",
    "in2 = model.data_set[id2]"
   ]
  },
  {
   "cell_type": "code",
   "execution_count": 10,
   "metadata": {},
   "outputs": [],
   "source": [
    "import torch\n",
    "f1 = model.feature_extractor([torch.LongTensor(i) for i in id1],ret_raw=True)"
   ]
  },
  {
   "cell_type": "code",
   "execution_count": 54,
   "metadata": {},
   "outputs": [],
   "source": [
    "mask = torch.sum(f1[0],dim = -1).to(torch.bool)"
   ]
  },
  {
   "cell_type": "code",
   "execution_count": 55,
   "metadata": {},
   "outputs": [
    {
     "data": {
      "text/plain": [
       "torch.Size([512, 10])"
      ]
     },
     "execution_count": 55,
     "metadata": {},
     "output_type": "execute_result"
    }
   ],
   "source": [
    "mask.shape"
   ]
  },
  {
   "cell_type": "code",
   "execution_count": 56,
   "metadata": {},
   "outputs": [
    {
     "data": {
      "text/plain": [
       "tensor([ True,  True,  True,  True,  True, False, False, False, False, False],\n",
       "       device='cuda:0')"
      ]
     },
     "execution_count": 56,
     "metadata": {},
     "output_type": "execute_result"
    }
   ],
   "source": [
    "mask[0]"
   ]
  },
  {
   "cell_type": "code",
   "execution_count": null,
   "metadata": {},
   "outputs": [],
   "source": []
  }
 ],
 "metadata": {
  "interpreter": {
   "hash": "caf1c2fcf97217de91eafa76b907d50f9ea378f5ffbee7f571142d119bb6a771"
  },
  "kernelspec": {
   "display_name": "Python 3",
   "language": "python",
   "name": "python3"
  },
  "language_info": {
   "codemirror_mode": {
    "name": "ipython",
    "version": 3
   },
   "file_extension": ".py",
   "mimetype": "text/x-python",
   "name": "python",
   "nbconvert_exporter": "python",
   "pygments_lexer": "ipython3",
   "version": "3.8.5"
  }
 },
 "nbformat": 4,
 "nbformat_minor": 4
}
