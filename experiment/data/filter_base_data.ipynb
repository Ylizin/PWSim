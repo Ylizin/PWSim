{
 "cells": [
  {
   "cell_type": "code",
   "execution_count": 1,
   "metadata": {},
   "outputs": [],
   "source": [
    "import pandas as pd\n",
    "import numpy as np\n",
    "from gensim.corpora.dictionary import Dictionary\n",
    "import spacy as sp\n",
    "from spacy import displacy\n",
    "import torch\n",
    "from eda import lem\n",
    "import pickle\n",
    "from concurrent.futures import  ProcessPoolExecutor"
   ]
  },
  {
   "cell_type": "code",
   "execution_count": 2,
   "metadata": {},
   "outputs": [
    {
     "name": "stderr",
     "output_type": "stream",
     "text": [
      "/home/ubuntu/anaconda3/lib/python3.8/site-packages/spacy/util.py:833: UserWarning: [W095] Model 'en_core_web_lg' (3.0.0) was trained with spaCy v3.0 and may not be 100% compatible with the current version (3.2.4). If you see errors or degraded performance, download a newer compatible model or retrain your custom model with the current spaCy version. For more details and available updates, run: python -m spacy validate\n",
      "  warnings.warn(warn_msg)\n"
     ]
    }
   ],
   "source": [
    "vec_model= sp.load('en_core_web_lg')\n",
    "df = pd.read_csv(r'./pw_services.csv').dropna()\n",
    "\n",
    "parse_list=lambda s:eval(s)\n",
    "des = df.Description\n",
    "cats = df.Categories.apply(parse_list)"
   ]
  },
  {
   "cell_type": "code",
   "execution_count": 3,
   "metadata": {},
   "outputs": [],
   "source": [
    "cat_vec = {}\n",
    "\n",
    "for tok_ in cats.tolist():\n",
    "    for tok in tok_:\n",
    "        if tok in cat_vec:\n",
    "            continue\n",
    "        cat_vec[tok] = vec_model(tok)\n",
    "\n",
    "def getTagSimMatrix(idx):\n",
    "    sim_d = {}\n",
    "    for tok in cats[idx]:\n",
    "        tok_sims = {}\n",
    "        for v,noun in df.goals.loc[idx]:\n",
    "\n",
    "            tok_sims[noun] = cat_vec[tok].similarity(vec_model(noun))\n",
    "        sim_d[tok] = tok_sims\n",
    "    return sim_d\n",
    "\n",
    "#------find goal\n",
    "def recurFindVerb(noun_chunk):\n",
    "    tok = noun_chunk.root\n",
    "\n",
    "    # check for prep_for and prep_in\n",
    "    if tok.dep_ == 'pobj':\n",
    "        tok = tok.head\n",
    "        if tok.text in {'for','in'}:\n",
    "            tok = tok.head\n",
    "            if tok.pos_ == 'VERB':\n",
    "                return tok.text\n",
    "            else:\n",
    "                tok = noun_chunk.root\n",
    "\n",
    "    while tok.has_head:\n",
    "        if tok.dep_ in {'nsubj','prep'} :\n",
    "            return None\n",
    "        if tok.head == tok:\n",
    "            break\n",
    "        elif tok.head.pos_ == 'VERB':\n",
    "            tok = tok.head\n",
    "            prt = find_prt(tok.head)\n",
    "            return tok.text +\" \"+ prt[0].text if prt else tok.text\n",
    "        elif tok.head.pos_ == 'NOUN':\n",
    "            return None\n",
    "        tok = tok.head\n",
    "    if tok.pos_ == 'VERB':\n",
    "        return tok.text\n",
    "    else:\n",
    "        return None\n",
    "    \n",
    "        \n",
    "def findGoal(doc):\n",
    "    noun_chunks = mergeNounChunks(list(doc.noun_chunks))\n",
    "    return list(filter(lambda x :x[0]!=None,[(recurFindVerb(ori_chunk),ext_chunks) for ori_chunk,ext_chunks in noun_chunks.items()]))\n",
    "\n",
    "find_prt = lambda verb : list(filter(lambda n:n.dep_=='prt', verb.children))\n",
    "find_prep_of = lambda noun : list(filter(lambda n:n.dep_=='prep' and n.text in {'of','in'}, noun.children))\n",
    "\n",
    "\n",
    "top_noun_chunks = lambda idx :pd.DataFrame(getTagSimMatrix(idx)).T.mean().sort_values(ascending=False)\n",
    "chunks = lambda top_noun_chunks_,r : [(chunk,score) for chunk,score in top_noun_chunks_[:int(r*top_noun_chunks_.size)].items()]\n",
    "# top_chun = df.index.to_series().apply(lambda x :chunks(top_noun_chunks(x),0.99))\n",
    "# df['chunks'] = top_chun.apply(lambda li: [(x.text,score) for x,score in li])\n",
    "# all_chun = df.index.to_series().apply(lambda x :chunks(top_noun_chunks(x),0.99))\n",
    "\n",
    "#---- merge chunk\n",
    "build_chunk_sets = lambda n_chunks: {span.root:span for span in n_chunks}\n",
    "\n",
    "def mergeNounChunks(noun_chunk): # cat nouns in prep-dep {'of','in'} and cat appos\n",
    "    chunk_sets = build_chunk_sets(noun_chunk) # map chunk root to whole chunk\n",
    "    chunk_merger = {} # manage cat relation.  b:a , concate b to a , when  c:b concate c-b-a\n",
    "    new_chunks = {n:n.text for n in noun_chunk} # cated chunks\n",
    "    for c in noun_chunk:\n",
    "        noun = c.root\n",
    "        \n",
    "        if noun.has_head and noun.head.text in {'of','in'}:\n",
    "            if noun.head.dep_ == 'prep' and noun.head.has_head :\n",
    "                pre = noun.head.head\n",
    "                if pre in chunk_sets:\n",
    "                    chunk_merger[noun] = pre\n",
    "        elif noun.has_head and noun.dep_ =='appos':\n",
    "            pre = noun.head\n",
    "            chunk_merger[noun] = pre\n",
    "\n",
    "    # print(chunk_merger)\n",
    "    for k,v in chunk_merger.items():\n",
    "        while v in chunk_merger:\n",
    "            v = chunk_merger[v]\n",
    "        if v in chunk_merger:\n",
    "            new_chunks[chunk_sets[v]] += \" \"+chunk_sets[k].text\n",
    "            new_chunks.pop(chunk_sets[k])\n",
    "        \n",
    "    return new_chunks\n",
    "    \n",
    "\n",
    "# mergeNounChunks(list(doc.noun_chunks))\n"
   ]
  },
  {
   "cell_type": "code",
   "execution_count": 4,
   "metadata": {},
   "outputs": [
    {
     "name": "stderr",
     "output_type": "stream",
     "text": [
      "<ipython-input-3-a88997aa1fa9>:14: UserWarning: [W008] Evaluating Doc.similarity based on empty vectors.\n",
      "  tok_sims[n_tok] = cat_vec[tok].similarity(n_tok)\n"
     ]
    },
    {
     "data": {
      "text/html": [
       "<div>\n",
       "<style scoped>\n",
       "    .dataframe tbody tr th:only-of-type {\n",
       "        vertical-align: middle;\n",
       "    }\n",
       "\n",
       "    .dataframe tbody tr th {\n",
       "        vertical-align: top;\n",
       "    }\n",
       "\n",
       "    .dataframe thead th {\n",
       "        text-align: right;\n",
       "    }\n",
       "</style>\n",
       "<table border=\"1\" class=\"dataframe\">\n",
       "  <thead>\n",
       "    <tr style=\"text-align: right;\">\n",
       "      <th></th>\n",
       "      <th>(The, 100A, API)</th>\n",
       "      <th>(users)</th>\n",
       "      <th>(any, type)</th>\n",
       "      <th>(textual, information)</th>\n",
       "      <th>(articles)</th>\n",
       "      <th>(white, papers)</th>\n",
       "      <th>(books)</th>\n",
       "      <th>(code, backups)</th>\n",
       "      <th>(JSON)</th>\n",
       "      <th>(HTMLmarkup)</th>\n",
       "      <th>...</th>\n",
       "      <th>(You)</th>\n",
       "      <th>(your, data)</th>\n",
       "      <th>(anyone)</th>\n",
       "      <th>(it)</th>\n",
       "      <th>(yourself)</th>\n",
       "      <th>(a, private, password)</th>\n",
       "      <th>(Private, data)</th>\n",
       "      <th>(you)</th>\n",
       "      <th>(a, valid, password, -, key)</th>\n",
       "      <th>(a, data, extraction, &amp;, management, service)</th>\n",
       "    </tr>\n",
       "  </thead>\n",
       "  <tbody>\n",
       "    <tr>\n",
       "      <th>storage</th>\n",
       "      <td>0.210751</td>\n",
       "      <td>0.307467</td>\n",
       "      <td>0.346697</td>\n",
       "      <td>0.288041</td>\n",
       "      <td>0.183973</td>\n",
       "      <td>0.233925</td>\n",
       "      <td>0.194981</td>\n",
       "      <td>0.427703</td>\n",
       "      <td>0.086529</td>\n",
       "      <td>0.0</td>\n",
       "      <td>...</td>\n",
       "      <td>0.238880</td>\n",
       "      <td>0.524502</td>\n",
       "      <td>0.126712</td>\n",
       "      <td>0.257464</td>\n",
       "      <td>0.177350</td>\n",
       "      <td>0.368312</td>\n",
       "      <td>0.502982</td>\n",
       "      <td>0.238880</td>\n",
       "      <td>0.328890</td>\n",
       "      <td>0.537293</td>\n",
       "    </tr>\n",
       "    <tr>\n",
       "      <th>application development</th>\n",
       "      <td>0.330608</td>\n",
       "      <td>0.429583</td>\n",
       "      <td>0.493208</td>\n",
       "      <td>0.451126</td>\n",
       "      <td>0.285954</td>\n",
       "      <td>0.270668</td>\n",
       "      <td>0.229542</td>\n",
       "      <td>0.379326</td>\n",
       "      <td>0.106005</td>\n",
       "      <td>0.0</td>\n",
       "      <td>...</td>\n",
       "      <td>0.339272</td>\n",
       "      <td>0.521420</td>\n",
       "      <td>0.300491</td>\n",
       "      <td>0.407612</td>\n",
       "      <td>0.242861</td>\n",
       "      <td>0.432029</td>\n",
       "      <td>0.503662</td>\n",
       "      <td>0.339272</td>\n",
       "      <td>0.465470</td>\n",
       "      <td>0.642960</td>\n",
       "    </tr>\n",
       "    <tr>\n",
       "      <th>artificial intelligence</th>\n",
       "      <td>0.174130</td>\n",
       "      <td>0.198882</td>\n",
       "      <td>0.354140</td>\n",
       "      <td>0.362263</td>\n",
       "      <td>0.211878</td>\n",
       "      <td>0.316755</td>\n",
       "      <td>0.175138</td>\n",
       "      <td>0.220549</td>\n",
       "      <td>-0.035210</td>\n",
       "      <td>0.0</td>\n",
       "      <td>...</td>\n",
       "      <td>0.272686</td>\n",
       "      <td>0.387226</td>\n",
       "      <td>0.292041</td>\n",
       "      <td>0.336505</td>\n",
       "      <td>0.244712</td>\n",
       "      <td>0.232848</td>\n",
       "      <td>0.368561</td>\n",
       "      <td>0.272686</td>\n",
       "      <td>0.252185</td>\n",
       "      <td>0.425650</td>\n",
       "    </tr>\n",
       "    <tr>\n",
       "      <th>data</th>\n",
       "      <td>0.296234</td>\n",
       "      <td>0.484222</td>\n",
       "      <td>0.413388</td>\n",
       "      <td>0.614800</td>\n",
       "      <td>0.271294</td>\n",
       "      <td>0.263547</td>\n",
       "      <td>0.179523</td>\n",
       "      <td>0.514592</td>\n",
       "      <td>0.197926</td>\n",
       "      <td>0.0</td>\n",
       "      <td>...</td>\n",
       "      <td>0.292992</td>\n",
       "      <td>0.840925</td>\n",
       "      <td>0.211444</td>\n",
       "      <td>0.305796</td>\n",
       "      <td>0.165029</td>\n",
       "      <td>0.462213</td>\n",
       "      <td>0.828303</td>\n",
       "      <td>0.292992</td>\n",
       "      <td>0.512510</td>\n",
       "      <td>0.740117</td>\n",
       "    </tr>\n",
       "    <tr>\n",
       "      <th>documents</th>\n",
       "      <td>0.185314</td>\n",
       "      <td>0.348419</td>\n",
       "      <td>0.377979</td>\n",
       "      <td>0.577973</td>\n",
       "      <td>0.451364</td>\n",
       "      <td>0.444649</td>\n",
       "      <td>0.373173</td>\n",
       "      <td>0.385624</td>\n",
       "      <td>0.087449</td>\n",
       "      <td>0.0</td>\n",
       "      <td>...</td>\n",
       "      <td>0.281128</td>\n",
       "      <td>0.509432</td>\n",
       "      <td>0.254730</td>\n",
       "      <td>0.303681</td>\n",
       "      <td>0.172078</td>\n",
       "      <td>0.388074</td>\n",
       "      <td>0.504743</td>\n",
       "      <td>0.281128</td>\n",
       "      <td>0.428051</td>\n",
       "      <td>0.453355</td>\n",
       "    </tr>\n",
       "    <tr>\n",
       "      <th>file sharing</th>\n",
       "      <td>0.290416</td>\n",
       "      <td>0.521668</td>\n",
       "      <td>0.491890</td>\n",
       "      <td>0.453008</td>\n",
       "      <td>0.289265</td>\n",
       "      <td>0.283100</td>\n",
       "      <td>0.272863</td>\n",
       "      <td>0.546307</td>\n",
       "      <td>0.239008</td>\n",
       "      <td>0.0</td>\n",
       "      <td>...</td>\n",
       "      <td>0.434392</td>\n",
       "      <td>0.626639</td>\n",
       "      <td>0.407146</td>\n",
       "      <td>0.443960</td>\n",
       "      <td>0.329298</td>\n",
       "      <td>0.598888</td>\n",
       "      <td>0.609398</td>\n",
       "      <td>0.434392</td>\n",
       "      <td>0.587354</td>\n",
       "      <td>0.566849</td>\n",
       "    </tr>\n",
       "  </tbody>\n",
       "</table>\n",
       "<p>6 rows × 29 columns</p>\n",
       "</div>"
      ],
      "text/plain": [
       "                         (The, 100A, API)   (users)  (any, type)  \\\n",
       "storage                          0.210751  0.307467     0.346697   \n",
       "application development          0.330608  0.429583     0.493208   \n",
       "artificial intelligence          0.174130  0.198882     0.354140   \n",
       "data                             0.296234  0.484222     0.413388   \n",
       "documents                        0.185314  0.348419     0.377979   \n",
       "file sharing                     0.290416  0.521668     0.491890   \n",
       "\n",
       "                         (textual, information)  (articles)  (white, papers)  \\\n",
       "storage                                0.288041    0.183973         0.233925   \n",
       "application development                0.451126    0.285954         0.270668   \n",
       "artificial intelligence                0.362263    0.211878         0.316755   \n",
       "data                                   0.614800    0.271294         0.263547   \n",
       "documents                              0.577973    0.451364         0.444649   \n",
       "file sharing                           0.453008    0.289265         0.283100   \n",
       "\n",
       "                          (books)  (code, backups)    (JSON)  (HTMLmarkup)  \\\n",
       "storage                  0.194981         0.427703  0.086529           0.0   \n",
       "application development  0.229542         0.379326  0.106005           0.0   \n",
       "artificial intelligence  0.175138         0.220549 -0.035210           0.0   \n",
       "data                     0.179523         0.514592  0.197926           0.0   \n",
       "documents                0.373173         0.385624  0.087449           0.0   \n",
       "file sharing             0.272863         0.546307  0.239008           0.0   \n",
       "\n",
       "                         ...     (You)  (your, data)  (anyone)      (it)  \\\n",
       "storage                  ...  0.238880      0.524502  0.126712  0.257464   \n",
       "application development  ...  0.339272      0.521420  0.300491  0.407612   \n",
       "artificial intelligence  ...  0.272686      0.387226  0.292041  0.336505   \n",
       "data                     ...  0.292992      0.840925  0.211444  0.305796   \n",
       "documents                ...  0.281128      0.509432  0.254730  0.303681   \n",
       "file sharing             ...  0.434392      0.626639  0.407146  0.443960   \n",
       "\n",
       "                         (yourself)  (a, private, password)  (Private, data)  \\\n",
       "storage                    0.177350                0.368312         0.502982   \n",
       "application development    0.242861                0.432029         0.503662   \n",
       "artificial intelligence    0.244712                0.232848         0.368561   \n",
       "data                       0.165029                0.462213         0.828303   \n",
       "documents                  0.172078                0.388074         0.504743   \n",
       "file sharing               0.329298                0.598888         0.609398   \n",
       "\n",
       "                            (you)  (a, valid, password, -, key)  \\\n",
       "storage                  0.238880                      0.328890   \n",
       "application development  0.339272                      0.465470   \n",
       "artificial intelligence  0.272686                      0.252185   \n",
       "data                     0.292992                      0.512510   \n",
       "documents                0.281128                      0.428051   \n",
       "file sharing             0.434392                      0.587354   \n",
       "\n",
       "                         (a, data, extraction, &, management, service)  \n",
       "storage                                                       0.537293  \n",
       "application development                                       0.642960  \n",
       "artificial intelligence                                       0.425650  \n",
       "data                                                          0.740117  \n",
       "documents                                                     0.453355  \n",
       "file sharing                                                  0.566849  \n",
       "\n",
       "[6 rows x 29 columns]"
      ]
     },
     "execution_count": 4,
     "metadata": {},
     "output_type": "execute_result"
    }
   ],
   "source": [
    "pd.DataFrame(getTagSimMatrix(6)).T"
   ]
  },
  {
   "cell_type": "code",
   "execution_count": 81,
   "metadata": {},
   "outputs": [],
   "source": [
    "df['goals'] = df.Description.apply(vec_model).apply(findGoal)\n",
    "df['chunks'] = df.Description.apply(vec_model).apply(lambda x:[(n.text,1)for n in x.noun_chunks])\n"
   ]
  },
  {
   "cell_type": "code",
   "execution_count": 9,
   "metadata": {},
   "outputs": [
    {
     "ename": "NameError",
     "evalue": "name 'top_chun' is not defined",
     "output_type": "error",
     "traceback": [
      "\u001b[0;31m---------------------------------------------------------------------------\u001b[0m",
      "\u001b[0;31mNameError\u001b[0m                                 Traceback (most recent call last)",
      "\u001b[0;32m<ipython-input-9-378d0a04699a>\u001b[0m in \u001b[0;36m<module>\u001b[0;34m\u001b[0m\n\u001b[1;32m      1\u001b[0m \u001b[0;31m# [recurFindVerb(noun_c)  for li in  top_chun for noun_c,score in li]\u001b[0m\u001b[0;34m\u001b[0m\u001b[0;34m\u001b[0m\u001b[0;34m\u001b[0m\u001b[0m\n\u001b[0;32m----> 2\u001b[0;31m \u001b[0;34m[\u001b[0m\u001b[0mfindGoal\u001b[0m\u001b[0;34m(\u001b[0m\u001b[0;34m[\u001b[0m\u001b[0mnoun_c\u001b[0m \u001b[0;32mfor\u001b[0m \u001b[0mnoun_c\u001b[0m\u001b[0;34m,\u001b[0m\u001b[0mscore\u001b[0m \u001b[0;32min\u001b[0m \u001b[0mli\u001b[0m\u001b[0;34m]\u001b[0m\u001b[0;34m)\u001b[0m \u001b[0;32mfor\u001b[0m \u001b[0mli\u001b[0m \u001b[0;32min\u001b[0m \u001b[0mtop_chun\u001b[0m\u001b[0;34m]\u001b[0m\u001b[0;34m\u001b[0m\u001b[0;34m\u001b[0m\u001b[0m\n\u001b[0m",
      "\u001b[0;31mNameError\u001b[0m: name 'top_chun' is not defined"
     ]
    }
   ],
   "source": [
    "# [recurFindVerb(noun_c)  for li in  top_chun for noun_c,score in li]\n",
    "[findGoal([noun_c for noun_c,score in li]) for li in top_chun]"
   ]
  },
  {
   "cell_type": "code",
   "execution_count": 8,
   "metadata": {},
   "outputs": [],
   "source": [
    "api1 = \"\"\"The 511NY API integrates New York's traffic data. It is available in REST\n",
    "protocol with a developer Key. Traffic speeds, incidents, roadwork, and\n",
    "cameras can be included in new mobile traffic applications with API access.\n",
    "New York State 511 provides citizens with traffic and transportation\n",
    "information, news, and updates.\"\"\""
   ]
  },
  {
   "cell_type": "code",
   "execution_count": null,
   "metadata": {},
   "outputs": [],
   "source": [
    "api1 = \"\"\"The 511NY API integrates New York's traffic data. It is available in REST\n",
    "protocol with a developer Key. Traffic speeds, incidents, roadwork, and\n",
    "cameras can be included in new mobile traffic applications with API access.\n",
    "New York State 511 provides citizens with traffic and transportation\n",
    "information, news, and updates.\"\"\""
   ]
  },
  {
   "cell_type": "code",
   "execution_count": 9,
   "metadata": {},
   "outputs": [],
   "source": [
    "doc = vec_model(api1)"
   ]
  },
  {
   "cell_type": "code",
   "execution_count": 15,
   "metadata": {},
   "outputs": [
    {
     "name": "stdout",
     "output_type": "stream",
     "text": [
      "[(The, 'det', API), (511NY, 'compound', API), (API, 'nsubj', integrates), (integrates, 'ROOT', integrates), (New, 'compound', York), (York, 'poss', data), ('s, 'case', York), (traffic, 'compound', data), (data, 'dobj', integrates), (., 'punct', integrates), (It, 'nsubj', is), (is, 'ROOT', is), (available, 'acomp', is), (in, 'prep', available), (REST, 'compound', protocol), (\n",
      ", 'compound', protocol), (protocol, 'pobj', in), (with, 'prep', is), (a, 'det', developer), (developer, 'pobj', with), (Key, 'appos', developer), (., 'punct', is), (Traffic, 'compound', speeds), (speeds, 'nsubjpass', included), (,, 'punct', speeds), (incidents, 'conj', speeds), (,, 'punct', incidents), (roadwork, 'conj', incidents), (,, 'punct', roadwork), (and, 'cc', roadwork), (\n",
      ", 'compound', cameras), (cameras, 'conj', roadwork), (can, 'aux', included), (be, 'auxpass', included), (included, 'ROOT', included), (in, 'prep', included), (new, 'amod', applications), (mobile, 'amod', traffic), (traffic, 'compound', applications), (applications, 'pobj', in), (with, 'prep', applications), (API, 'compound', access), (access, 'pobj', with), (., 'punct', included), (\n",
      ", 'compound', York), (New, 'compound', York), (York, 'compound', State), (State, 'nsubj', provides), (511, 'nsubj', provides), (provides, 'ROOT', provides), (citizens, 'dobj', provides), (with, 'prep', provides), (traffic, 'pobj', with), (and, 'cc', traffic), (transportation, 'compound', \n",
      "), (\n",
      ", 'conj', traffic), (information, 'pobj', with), (,, 'punct', information), (news, 'conj', information), (,, 'punct', news), (and, 'cc', news), (updates, 'conj', news), (., 'punct', provides)]\n"
     ]
    }
   ],
   "source": [
    "print([(tok,tok.dep_,tok.head) for tok in doc])"
   ]
  },
  {
   "cell_type": "code",
   "execution_count": 12,
   "metadata": {},
   "outputs": [
    {
     "name": "stdout",
     "output_type": "stream",
     "text": [
      "{The 511NY API: 'The 511NY API', New York's traffic data: \"New York's traffic data\", It: 'It', REST\n",
      "protocol: 'REST\\nprotocol', a developer: 'a developer', Key: 'Key', Traffic speeds: 'Traffic speeds', incidents: 'incidents', roadwork: 'roadwork', \n",
      "cameras: '\\ncameras', new mobile traffic applications: 'new mobile traffic applications', API access: 'API access', \n",
      "New York State: '\\nNew York State', citizens: 'citizens', traffic: 'traffic', information: 'information', news: 'news', updates: 'updates'}\n"
     ]
    },
    {
     "data": {
      "text/plain": [
       "[('integrates', \"New York's traffic data\"),\n",
       " ('included', 'Traffic speeds'),\n",
       " ('included', 'new mobile traffic applications'),\n",
       " ('provides', 'citizens')]"
      ]
     },
     "execution_count": 12,
     "metadata": {},
     "output_type": "execute_result"
    }
   ],
   "source": [
    "findGoal(doc)"
   ]
  },
  {
   "cell_type": "code",
   "execution_count": 10,
   "metadata": {},
   "outputs": [
    {
     "data": {
      "text/html": [
       "<span class=\"tex2jax_ignore\"><svg xmlns=\"http://www.w3.org/2000/svg\" xmlns:xlink=\"http://www.w3.org/1999/xlink\" xml:lang=\"en\" id=\"6ad0473289c64f529f0d6d859dd3bbba-0\" class=\"displacy\" width=\"1850\" height=\"362.0\" direction=\"ltr\" style=\"max-width: none; height: 362.0px; color: #000000; background: #ffffff; font-family: Arial; direction: ltr\">\n",
       "<text class=\"displacy-token\" fill=\"currentColor\" text-anchor=\"middle\" y=\"272.0\">\n",
       "    <tspan class=\"displacy-word\" fill=\"currentColor\" x=\"50\">With</tspan>\n",
       "    <tspan class=\"displacy-tag\" dy=\"2em\" fill=\"currentColor\" x=\"50\">ADP</tspan>\n",
       "</text>\n",
       "\n",
       "<text class=\"displacy-token\" fill=\"currentColor\" text-anchor=\"middle\" y=\"272.0\">\n",
       "    <tspan class=\"displacy-word\" fill=\"currentColor\" x=\"200\">this</tspan>\n",
       "    <tspan class=\"displacy-tag\" dy=\"2em\" fill=\"currentColor\" x=\"200\">DET</tspan>\n",
       "</text>\n",
       "\n",
       "<text class=\"displacy-token\" fill=\"currentColor\" text-anchor=\"middle\" y=\"272.0\">\n",
       "    <tspan class=\"displacy-word\" fill=\"currentColor\" x=\"350\">API,</tspan>\n",
       "    <tspan class=\"displacy-tag\" dy=\"2em\" fill=\"currentColor\" x=\"350\">NOUN</tspan>\n",
       "</text>\n",
       "\n",
       "<text class=\"displacy-token\" fill=\"currentColor\" text-anchor=\"middle\" y=\"272.0\">\n",
       "    <tspan class=\"displacy-word\" fill=\"currentColor\" x=\"500\">travelers</tspan>\n",
       "    <tspan class=\"displacy-tag\" dy=\"2em\" fill=\"currentColor\" x=\"500\">NOUN</tspan>\n",
       "</text>\n",
       "\n",
       "<text class=\"displacy-token\" fill=\"currentColor\" text-anchor=\"middle\" y=\"272.0\">\n",
       "    <tspan class=\"displacy-word\" fill=\"currentColor\" x=\"650\">can</tspan>\n",
       "    <tspan class=\"displacy-tag\" dy=\"2em\" fill=\"currentColor\" x=\"650\">AUX</tspan>\n",
       "</text>\n",
       "\n",
       "<text class=\"displacy-token\" fill=\"currentColor\" text-anchor=\"middle\" y=\"272.0\">\n",
       "    <tspan class=\"displacy-word\" fill=\"currentColor\" x=\"800\">search</tspan>\n",
       "    <tspan class=\"displacy-tag\" dy=\"2em\" fill=\"currentColor\" x=\"800\">VERB</tspan>\n",
       "</text>\n",
       "\n",
       "<text class=\"displacy-token\" fill=\"currentColor\" text-anchor=\"middle\" y=\"272.0\">\n",
       "    <tspan class=\"displacy-word\" fill=\"currentColor\" x=\"950\">for</tspan>\n",
       "    <tspan class=\"displacy-tag\" dy=\"2em\" fill=\"currentColor\" x=\"950\">ADP</tspan>\n",
       "</text>\n",
       "\n",
       "<text class=\"displacy-token\" fill=\"currentColor\" text-anchor=\"middle\" y=\"272.0\">\n",
       "    <tspan class=\"displacy-word\" fill=\"currentColor\" x=\"1100\">hotel</tspan>\n",
       "    <tspan class=\"displacy-tag\" dy=\"2em\" fill=\"currentColor\" x=\"1100\">NOUN</tspan>\n",
       "</text>\n",
       "\n",
       "<text class=\"displacy-token\" fill=\"currentColor\" text-anchor=\"middle\" y=\"272.0\">\n",
       "    <tspan class=\"displacy-word\" fill=\"currentColor\" x=\"1250\">information</tspan>\n",
       "    <tspan class=\"displacy-tag\" dy=\"2em\" fill=\"currentColor\" x=\"1250\">NOUN</tspan>\n",
       "</text>\n",
       "\n",
       "<text class=\"displacy-token\" fill=\"currentColor\" text-anchor=\"middle\" y=\"272.0\">\n",
       "    <tspan class=\"displacy-word\" fill=\"currentColor\" x=\"1400\">in</tspan>\n",
       "    <tspan class=\"displacy-tag\" dy=\"2em\" fill=\"currentColor\" x=\"1400\">ADP</tspan>\n",
       "</text>\n",
       "\n",
       "<text class=\"displacy-token\" fill=\"currentColor\" text-anchor=\"middle\" y=\"272.0\">\n",
       "    <tspan class=\"displacy-word\" fill=\"currentColor\" x=\"1550\">New</tspan>\n",
       "    <tspan class=\"displacy-tag\" dy=\"2em\" fill=\"currentColor\" x=\"1550\">PROPN</tspan>\n",
       "</text>\n",
       "\n",
       "<text class=\"displacy-token\" fill=\"currentColor\" text-anchor=\"middle\" y=\"272.0\">\n",
       "    <tspan class=\"displacy-word\" fill=\"currentColor\" x=\"1700\">York.</tspan>\n",
       "    <tspan class=\"displacy-tag\" dy=\"2em\" fill=\"currentColor\" x=\"1700\">PROPN</tspan>\n",
       "</text>\n",
       "\n",
       "<g class=\"displacy-arrow\">\n",
       "    <path class=\"displacy-arc\" id=\"arrow-6ad0473289c64f529f0d6d859dd3bbba-0-0\" stroke-width=\"2px\" d=\"M62,227.0 62,152.0 800.0,152.0 800.0,227.0\" fill=\"none\" stroke=\"currentColor\"/>\n",
       "    <text dy=\"1.25em\" style=\"font-size: 0.8em; letter-spacing: 1px\">\n",
       "        <textPath xlink:href=\"#arrow-6ad0473289c64f529f0d6d859dd3bbba-0-0\" class=\"displacy-label\" startOffset=\"50%\" side=\"left\" fill=\"currentColor\" text-anchor=\"middle\">prep</textPath>\n",
       "    </text>\n",
       "    <path class=\"displacy-arrowhead\" d=\"M62,229.0 L58,221.0 66,221.0\" fill=\"currentColor\"/>\n",
       "</g>\n",
       "\n",
       "<g class=\"displacy-arrow\">\n",
       "    <path class=\"displacy-arc\" id=\"arrow-6ad0473289c64f529f0d6d859dd3bbba-0-1\" stroke-width=\"2px\" d=\"M212,227.0 212,202.0 344.0,202.0 344.0,227.0\" fill=\"none\" stroke=\"currentColor\"/>\n",
       "    <text dy=\"1.25em\" style=\"font-size: 0.8em; letter-spacing: 1px\">\n",
       "        <textPath xlink:href=\"#arrow-6ad0473289c64f529f0d6d859dd3bbba-0-1\" class=\"displacy-label\" startOffset=\"50%\" side=\"left\" fill=\"currentColor\" text-anchor=\"middle\">det</textPath>\n",
       "    </text>\n",
       "    <path class=\"displacy-arrowhead\" d=\"M212,229.0 L208,221.0 216,221.0\" fill=\"currentColor\"/>\n",
       "</g>\n",
       "\n",
       "<g class=\"displacy-arrow\">\n",
       "    <path class=\"displacy-arc\" id=\"arrow-6ad0473289c64f529f0d6d859dd3bbba-0-2\" stroke-width=\"2px\" d=\"M62,227.0 62,177.0 347.0,177.0 347.0,227.0\" fill=\"none\" stroke=\"currentColor\"/>\n",
       "    <text dy=\"1.25em\" style=\"font-size: 0.8em; letter-spacing: 1px\">\n",
       "        <textPath xlink:href=\"#arrow-6ad0473289c64f529f0d6d859dd3bbba-0-2\" class=\"displacy-label\" startOffset=\"50%\" side=\"left\" fill=\"currentColor\" text-anchor=\"middle\">pobj</textPath>\n",
       "    </text>\n",
       "    <path class=\"displacy-arrowhead\" d=\"M347.0,229.0 L351.0,221.0 343.0,221.0\" fill=\"currentColor\"/>\n",
       "</g>\n",
       "\n",
       "<g class=\"displacy-arrow\">\n",
       "    <path class=\"displacy-arc\" id=\"arrow-6ad0473289c64f529f0d6d859dd3bbba-0-3\" stroke-width=\"2px\" d=\"M512,227.0 512,177.0 797.0,177.0 797.0,227.0\" fill=\"none\" stroke=\"currentColor\"/>\n",
       "    <text dy=\"1.25em\" style=\"font-size: 0.8em; letter-spacing: 1px\">\n",
       "        <textPath xlink:href=\"#arrow-6ad0473289c64f529f0d6d859dd3bbba-0-3\" class=\"displacy-label\" startOffset=\"50%\" side=\"left\" fill=\"currentColor\" text-anchor=\"middle\">nsubj</textPath>\n",
       "    </text>\n",
       "    <path class=\"displacy-arrowhead\" d=\"M512,229.0 L508,221.0 516,221.0\" fill=\"currentColor\"/>\n",
       "</g>\n",
       "\n",
       "<g class=\"displacy-arrow\">\n",
       "    <path class=\"displacy-arc\" id=\"arrow-6ad0473289c64f529f0d6d859dd3bbba-0-4\" stroke-width=\"2px\" d=\"M662,227.0 662,202.0 794.0,202.0 794.0,227.0\" fill=\"none\" stroke=\"currentColor\"/>\n",
       "    <text dy=\"1.25em\" style=\"font-size: 0.8em; letter-spacing: 1px\">\n",
       "        <textPath xlink:href=\"#arrow-6ad0473289c64f529f0d6d859dd3bbba-0-4\" class=\"displacy-label\" startOffset=\"50%\" side=\"left\" fill=\"currentColor\" text-anchor=\"middle\">aux</textPath>\n",
       "    </text>\n",
       "    <path class=\"displacy-arrowhead\" d=\"M662,229.0 L658,221.0 666,221.0\" fill=\"currentColor\"/>\n",
       "</g>\n",
       "\n",
       "<g class=\"displacy-arrow\">\n",
       "    <path class=\"displacy-arc\" id=\"arrow-6ad0473289c64f529f0d6d859dd3bbba-0-5\" stroke-width=\"2px\" d=\"M812,227.0 812,202.0 944.0,202.0 944.0,227.0\" fill=\"none\" stroke=\"currentColor\"/>\n",
       "    <text dy=\"1.25em\" style=\"font-size: 0.8em; letter-spacing: 1px\">\n",
       "        <textPath xlink:href=\"#arrow-6ad0473289c64f529f0d6d859dd3bbba-0-5\" class=\"displacy-label\" startOffset=\"50%\" side=\"left\" fill=\"currentColor\" text-anchor=\"middle\">prep</textPath>\n",
       "    </text>\n",
       "    <path class=\"displacy-arrowhead\" d=\"M944.0,229.0 L948.0,221.0 940.0,221.0\" fill=\"currentColor\"/>\n",
       "</g>\n",
       "\n",
       "<g class=\"displacy-arrow\">\n",
       "    <path class=\"displacy-arc\" id=\"arrow-6ad0473289c64f529f0d6d859dd3bbba-0-6\" stroke-width=\"2px\" d=\"M1112,227.0 1112,202.0 1244.0,202.0 1244.0,227.0\" fill=\"none\" stroke=\"currentColor\"/>\n",
       "    <text dy=\"1.25em\" style=\"font-size: 0.8em; letter-spacing: 1px\">\n",
       "        <textPath xlink:href=\"#arrow-6ad0473289c64f529f0d6d859dd3bbba-0-6\" class=\"displacy-label\" startOffset=\"50%\" side=\"left\" fill=\"currentColor\" text-anchor=\"middle\">compound</textPath>\n",
       "    </text>\n",
       "    <path class=\"displacy-arrowhead\" d=\"M1112,229.0 L1108,221.0 1116,221.0\" fill=\"currentColor\"/>\n",
       "</g>\n",
       "\n",
       "<g class=\"displacy-arrow\">\n",
       "    <path class=\"displacy-arc\" id=\"arrow-6ad0473289c64f529f0d6d859dd3bbba-0-7\" stroke-width=\"2px\" d=\"M962,227.0 962,177.0 1247.0,177.0 1247.0,227.0\" fill=\"none\" stroke=\"currentColor\"/>\n",
       "    <text dy=\"1.25em\" style=\"font-size: 0.8em; letter-spacing: 1px\">\n",
       "        <textPath xlink:href=\"#arrow-6ad0473289c64f529f0d6d859dd3bbba-0-7\" class=\"displacy-label\" startOffset=\"50%\" side=\"left\" fill=\"currentColor\" text-anchor=\"middle\">pobj</textPath>\n",
       "    </text>\n",
       "    <path class=\"displacy-arrowhead\" d=\"M1247.0,229.0 L1251.0,221.0 1243.0,221.0\" fill=\"currentColor\"/>\n",
       "</g>\n",
       "\n",
       "<g class=\"displacy-arrow\">\n",
       "    <path class=\"displacy-arc\" id=\"arrow-6ad0473289c64f529f0d6d859dd3bbba-0-8\" stroke-width=\"2px\" d=\"M1262,227.0 1262,202.0 1394.0,202.0 1394.0,227.0\" fill=\"none\" stroke=\"currentColor\"/>\n",
       "    <text dy=\"1.25em\" style=\"font-size: 0.8em; letter-spacing: 1px\">\n",
       "        <textPath xlink:href=\"#arrow-6ad0473289c64f529f0d6d859dd3bbba-0-8\" class=\"displacy-label\" startOffset=\"50%\" side=\"left\" fill=\"currentColor\" text-anchor=\"middle\">prep</textPath>\n",
       "    </text>\n",
       "    <path class=\"displacy-arrowhead\" d=\"M1394.0,229.0 L1398.0,221.0 1390.0,221.0\" fill=\"currentColor\"/>\n",
       "</g>\n",
       "\n",
       "<g class=\"displacy-arrow\">\n",
       "    <path class=\"displacy-arc\" id=\"arrow-6ad0473289c64f529f0d6d859dd3bbba-0-9\" stroke-width=\"2px\" d=\"M1562,227.0 1562,202.0 1694.0,202.0 1694.0,227.0\" fill=\"none\" stroke=\"currentColor\"/>\n",
       "    <text dy=\"1.25em\" style=\"font-size: 0.8em; letter-spacing: 1px\">\n",
       "        <textPath xlink:href=\"#arrow-6ad0473289c64f529f0d6d859dd3bbba-0-9\" class=\"displacy-label\" startOffset=\"50%\" side=\"left\" fill=\"currentColor\" text-anchor=\"middle\">compound</textPath>\n",
       "    </text>\n",
       "    <path class=\"displacy-arrowhead\" d=\"M1562,229.0 L1558,221.0 1566,221.0\" fill=\"currentColor\"/>\n",
       "</g>\n",
       "\n",
       "<g class=\"displacy-arrow\">\n",
       "    <path class=\"displacy-arc\" id=\"arrow-6ad0473289c64f529f0d6d859dd3bbba-0-10\" stroke-width=\"2px\" d=\"M1412,227.0 1412,177.0 1697.0,177.0 1697.0,227.0\" fill=\"none\" stroke=\"currentColor\"/>\n",
       "    <text dy=\"1.25em\" style=\"font-size: 0.8em; letter-spacing: 1px\">\n",
       "        <textPath xlink:href=\"#arrow-6ad0473289c64f529f0d6d859dd3bbba-0-10\" class=\"displacy-label\" startOffset=\"50%\" side=\"left\" fill=\"currentColor\" text-anchor=\"middle\">pobj</textPath>\n",
       "    </text>\n",
       "    <path class=\"displacy-arrowhead\" d=\"M1697.0,229.0 L1701.0,221.0 1693.0,221.0\" fill=\"currentColor\"/>\n",
       "</g>\n",
       "</svg></span>"
      ],
      "text/plain": [
       "<IPython.core.display.HTML object>"
      ]
     },
     "metadata": {},
     "output_type": "display_data"
    },
    {
     "data": {
      "text/plain": [
       "[None]"
      ]
     },
     "execution_count": 10,
     "metadata": {},
     "output_type": "execute_result"
    }
   ],
   "source": [
    "[displacy.render(sent,style='dep',options={'compact':True}) for sent in doc.sents] "
   ]
  },
  {
   "cell_type": "code",
   "execution_count": 11,
   "metadata": {},
   "outputs": [
    {
     "name": "stdout",
     "output_type": "stream",
     "text": [
      "2Checkout is a payment service that let businesses to process transactions on the web. The 2Checkout Admin API lets developers to integrate its administrative fuctionality into their applications/websites. With this API integrated, users will be able to automate account and order management processes. Request can be returned in XML, JSON, and HTML format.\n",
      "2Checkout\n"
     ]
    }
   ],
   "source": [
    "idx = 29\n",
    "doc = vec_model(df.iloc[idx,1])\n",
    "# doc = vec_model('get geographic information service (GIS). share and mark up data. get hotel and weather information. get newest google apps. With this API, travelers can search for hotel information in New York. Mark up data. get information of hotels in New York. With this API, the hotel information in New York can be retrieved. With this API, travelers can search for hotel information in New York.')\n",
    "print(df.iloc[idx,1])\n",
    "print(df.iloc[idx,-1])"
   ]
  },
  {
   "cell_type": "code",
   "execution_count": 10,
   "metadata": {},
   "outputs": [
    {
     "data": {
      "text/plain": [
       "[('integrates', \"New York's traffic data\"),\n",
       " ('included', 'Traffic speeds'),\n",
       " ('included', 'new mobile traffic applications'),\n",
       " ('provides', 'citizens')]"
      ]
     },
     "execution_count": 10,
     "metadata": {},
     "output_type": "execute_result"
    }
   ],
   "source": [
    "findGoal(doc)"
   ]
  },
  {
   "cell_type": "code",
   "execution_count": 14,
   "metadata": {},
   "outputs": [
    {
     "data": {
      "text/plain": [
       "[('get', geographic information service),\n",
       " ('mark', data),\n",
       " ('get', hotel and weather information),\n",
       " ('get', newest google apps),\n",
       " ('search', hotel information),\n",
       " ('Mark up', data),\n",
       " ('get', information),\n",
       " ('retrieved', the hotel information),\n",
       " ('search', hotel information)]"
      ]
     },
     "execution_count": 14,
     "metadata": {},
     "output_type": "execute_result"
    }
   ],
   "source": [
    "# doc= vec_model(df.iloc[-2,1])\n",
    "list(filter(lambda x :x[0]!=None,[(recurFindVerb(n_c),n_c) for n_c in doc.noun_chunks]))"
   ]
  },
  {
   "cell_type": "code",
   "execution_count": 33,
   "metadata": {},
   "outputs": [
    {
     "data": {
      "text/plain": [
       "[('search', 'hotel information')]"
      ]
     },
     "execution_count": 33,
     "metadata": {},
     "output_type": "execute_result"
    }
   ],
   "source": [
    "findGoal(doc.noun_chunks)"
   ]
  },
  {
   "cell_type": "code",
   "execution_count": 6,
   "metadata": {},
   "outputs": [],
   "source": [
    "from nltk import pos_tag_sents\n",
    "pos_tags = pos_tag_sents(des.apply(lem))"
   ]
  },
  {
   "cell_type": "code",
   "execution_count": 8,
   "metadata": {},
   "outputs": [
    {
     "data": {
      "text/plain": [
       "0        rebro kommun rebro municipality sweden provide...\n",
       "1        csfd api program interface interact czech slov...\n",
       "2        ternity decentralize blockchain system applica...\n",
       "3        api provide method source liquidity mesh kyber...\n",
       "4        fact russian website dedicate help people beco...\n",
       "                               ...                        \n",
       "20758    zync upwire api enable developer set event tri...\n",
       "20759    zyncro enterprise social networking service pr...\n",
       "20760    zynx health api provide access zynx content fa...\n",
       "20761    zype api integrate video feature application a...\n",
       "20762    zypr application api design work across variet...\n",
       "Length: 20763, dtype: object"
      ]
     },
     "execution_count": 8,
     "metadata": {},
     "output_type": "execute_result"
    }
   ],
   "source": [
    "# nn_sents = pd.Series([' '.join([e[0] for e in li]) for li in pos_tags])\n",
    "# nn_sents.dropna()"
   ]
  },
  {
   "cell_type": "code",
   "execution_count": 7,
   "metadata": {},
   "outputs": [],
   "source": [
    "nn_words = []\n",
    "def dup_nn(li):\n",
    "    res = ''\n",
    "    nns = set()\n",
    "    for w,att in li:\n",
    "        if att.startswith('NN') or att.startswith('JJ'):\n",
    "            res += w+' '\n",
    "            nns.add(w)\n",
    "        # res += w+' '\n",
    "    nn_words.append(nns)\n",
    "    return res\n",
    "nn_sents = pd.Series([dup_nn(sent) for sent in pos_tags])"
   ]
  },
  {
   "cell_type": "code",
   "execution_count": 8,
   "metadata": {},
   "outputs": [
    {
     "name": "stderr",
     "output_type": "stream",
     "text": [
      "<ipython-input-8-94de49c9adb3>:12: UserWarning: [W008] Evaluating Doc.similarity based on empty vectors.\n",
      "  sim = sent_doc.similarity(ve)\n"
     ]
    }
   ],
   "source": [
    "# nn_docs = nn_sents.apply(lambda x:vec_model(x))\n",
    "nn_docs = cats.apply(lambda x:' '.join(set(x))).apply(vec_model)\n",
    "def get_most_sim(sent_doc,nns,topn = 3):\n",
    "    words = []\n",
    "    if not sent_doc:\n",
    "        return []\n",
    "    if len(sent_doc)<2:\n",
    "        return []\n",
    "    # words = [ (w,max([tag.similarity(vec_model.vocab[w]) for tag in sent_doc])) for w in nns]\n",
    "    for w in nns:\n",
    "        ve = vec_model.vocab[w]\n",
    "        sim = sent_doc.similarity(ve)\n",
    "        words.append((w,sim))\n",
    "    # words.sort(key= lambda x:x[1])\n",
    "    return words\n",
    "nn_en = pd.Series([[(t,)*round(5*wei) for t,wei in get_most_sim(doc,nns)] for doc,nns in zip(nn_docs,nn_words)])"
   ]
  },
  {
   "cell_type": "markdown",
   "metadata": {},
   "source": [
    "1-将内容中名词简单重复\n",
    "2-将所有名词按和tag的相似度来进行重复n次\n"
   ]
  },
  {
   "cell_type": "code",
   "execution_count": 9,
   "metadata": {},
   "outputs": [],
   "source": [
    "nn_en = nn_en.apply(lambda x: ' '.join([' '.join(en) for en in x]))\n",
    "nn_sents = nn_sents+' '+nn_en\n",
    "df['des'] = nn_sents\n"
   ]
  },
  {
   "cell_type": "code",
   "execution_count": 10,
   "metadata": {},
   "outputs": [
    {
     "data": {
      "text/plain": [
       "'rebro kommun rebro municipality sweden provide portal government data information waste recycle library transit politics sport culture business tourism much information map restful api data xml json site documentation swedish  documentation documentation culture culture site sport sport government government government sweden sweden api much much map map   waste waste swedish xml  provide provide recycle data data data data transit transit portal portal library library municipality municipality politics politics tourism tourism business business information information information '"
      ]
     },
     "execution_count": 10,
     "metadata": {},
     "output_type": "execute_result"
    }
   ],
   "source": [
    "nn_sents[0]"
   ]
  },
  {
   "cell_type": "code",
   "execution_count": 11,
   "metadata": {},
   "outputs": [],
   "source": [
    "nn_vecs = nn_sents.apply(vec_model)"
   ]
  },
  {
   "cell_type": "code",
   "execution_count": 12,
   "metadata": {},
   "outputs": [
    {
     "name": "stderr",
     "output_type": "stream",
     "text": [
      "<ipython-input-12-3b118e43b4a0>:1: UserWarning: [W008] Evaluating Doc.similarity based on empty vectors.\n",
      "  rel_cats = [[(t,d.similarity(vec_model.vocab[t])) for t in tags] for d,tags in zip(nn_vecs,cats)]\n"
     ]
    }
   ],
   "source": [
    "rel_cats = [[(t,d.similarity(vec_model.vocab[t])) for t in tags] for d,tags in zip(nn_vecs,cats)]"
   ]
  },
  {
   "cell_type": "code",
   "execution_count": 13,
   "metadata": {},
   "outputs": [],
   "source": [
    "df['new_cats']= [set(x[0] for x in list(filter(lambda x:x[1]>0.5,li))) for li in rel_cats]"
   ]
  },
  {
   "cell_type": "code",
   "execution_count": 6,
   "metadata": {},
   "outputs": [],
   "source": [
    "df.to_csv('processed.csv',index=None)"
   ]
  },
  {
   "cell_type": "code",
   "execution_count": 15,
   "metadata": {},
   "outputs": [],
   "source": [
    "dddd = pd.read_csv('processed.csv')"
   ]
  },
  {
   "cell_type": "code",
   "execution_count": 68,
   "metadata": {},
   "outputs": [
    {
     "data": {
      "text/html": [
       "<div>\n",
       "<style scoped>\n",
       "    .dataframe tbody tr th:only-of-type {\n",
       "        vertical-align: middle;\n",
       "    }\n",
       "\n",
       "    .dataframe tbody tr th {\n",
       "        vertical-align: top;\n",
       "    }\n",
       "\n",
       "    .dataframe thead th {\n",
       "        text-align: right;\n",
       "    }\n",
       "</style>\n",
       "<table border=\"1\" class=\"dataframe\">\n",
       "  <thead>\n",
       "    <tr style=\"text-align: right;\">\n",
       "      <th></th>\n",
       "      <th>Name</th>\n",
       "      <th>Description</th>\n",
       "      <th>Categories</th>\n",
       "      <th>new_cats</th>\n",
       "      <th>des</th>\n",
       "    </tr>\n",
       "  </thead>\n",
       "  <tbody>\n",
       "    <tr>\n",
       "      <th>0</th>\n",
       "      <td>Ã–rebro kommun</td>\n",
       "      <td>rebro kommun    rebro municipality  Sweden  ...</td>\n",
       "      <td>['government', 'data', 'data', 'nordic']</td>\n",
       "      <td>{'government', 'data'}</td>\n",
       "      <td>rebro kommun rebro municipality sweden provide...</td>\n",
       "    </tr>\n",
       "    <tr>\n",
       "      <th>1</th>\n",
       "      <td>ÄŒSFD</td>\n",
       "      <td>The CSFD API is a programming interface to int...</td>\n",
       "      <td>['media', 'search', 'database']</td>\n",
       "      <td>{'search', 'database', 'media'}</td>\n",
       "      <td>csfd api program interface interact czech slov...</td>\n",
       "    </tr>\n",
       "    <tr>\n",
       "      <th>2</th>\n",
       "      <td>Æternity REST API v2</td>\n",
       "      <td>ternity is a decentralized blockchain system ...</td>\n",
       "      <td>['blockchain', 'bitcoin', 'community']</td>\n",
       "      <td>{'community'}</td>\n",
       "      <td>ternity blockchain system application educatio...</td>\n",
       "    </tr>\n",
       "    <tr>\n",
       "      <th>3</th>\n",
       "      <td>0x</td>\n",
       "      <td>The 0x API provides methods to source liquidit...</td>\n",
       "      <td>['blockchain', 'cryptocurrency', 'currency', '...</td>\n",
       "      <td>{'currency', 'financial'}</td>\n",
       "      <td>api provide method source liquidity mesh kyber...</td>\n",
       "    </tr>\n",
       "    <tr>\n",
       "      <th>4</th>\n",
       "      <td>100 Facts About Me</td>\n",
       "      <td>100 Facts About Me is a Russian website dedica...</td>\n",
       "      <td>['social', 'russian']</td>\n",
       "      <td>{'social'}</td>\n",
       "      <td>fact russian website dedicate help people good...</td>\n",
       "    </tr>\n",
       "    <tr>\n",
       "      <th>...</th>\n",
       "      <td>...</td>\n",
       "      <td>...</td>\n",
       "      <td>...</td>\n",
       "      <td>...</td>\n",
       "      <td>...</td>\n",
       "    </tr>\n",
       "    <tr>\n",
       "      <th>20758</th>\n",
       "      <td>Zync Upwire</td>\n",
       "      <td>The Zync Upwire API enables developers to set ...</td>\n",
       "      <td>['messaging', 'campaigns', 'email', 'voice']</td>\n",
       "      <td>{'messaging'}</td>\n",
       "      <td>zync upwire api enable developer event trigger...</td>\n",
       "    </tr>\n",
       "    <tr>\n",
       "      <th>20759</th>\n",
       "      <td>Zyncro</td>\n",
       "      <td>Zyncro is an enterprise social networking serv...</td>\n",
       "      <td>['enterprise', 'social', 'file sharing', 'blog...</td>\n",
       "      <td>{'social', 'enterprise'}</td>\n",
       "      <td>zyncro enterprise social networking service fe...</td>\n",
       "    </tr>\n",
       "    <tr>\n",
       "      <th>20760</th>\n",
       "      <td>Zynx Health</td>\n",
       "      <td>The Zynx Health API provides access to Zynx Co...</td>\n",
       "      <td>['healthcare', 'content', 'data', 'developers'...</td>\n",
       "      <td>{'healthcare', 'financial', 'management', 'dat...</td>\n",
       "      <td>zynx health api access zynx content healthcare...</td>\n",
       "    </tr>\n",
       "    <tr>\n",
       "      <th>20761</th>\n",
       "      <td>Zype</td>\n",
       "      <td>The Zype API integrates video features into ap...</td>\n",
       "      <td>['video', 'analytics', 'business', 'platform-a...</td>\n",
       "      <td>{'business'}</td>\n",
       "      <td>zype api integrate video feature application a...</td>\n",
       "    </tr>\n",
       "    <tr>\n",
       "      <th>20762</th>\n",
       "      <td>Zypr</td>\n",
       "      <td>Zypr is an application with an API that is des...</td>\n",
       "      <td>['other', 'mobile', 'social', 'mapping', 'weat...</td>\n",
       "      <td>{'mobile', 'other', 'social', 'mapping'}</td>\n",
       "      <td>zypr application api design work variety platf...</td>\n",
       "    </tr>\n",
       "  </tbody>\n",
       "</table>\n",
       "<p>20763 rows × 5 columns</p>\n",
       "</div>"
      ],
      "text/plain": [
       "                       Name  \\\n",
       "0            Ã–rebro kommun   \n",
       "1                     ÄŒSFD   \n",
       "2      Æternity REST API v2   \n",
       "3                        0x   \n",
       "4        100 Facts About Me   \n",
       "...                     ...   \n",
       "20758           Zync Upwire   \n",
       "20759                Zyncro   \n",
       "20760           Zynx Health   \n",
       "20761                  Zype   \n",
       "20762                  Zypr   \n",
       "\n",
       "                                             Description  \\\n",
       "0        rebro kommun    rebro municipality  Sweden  ...   \n",
       "1      The CSFD API is a programming interface to int...   \n",
       "2       ternity is a decentralized blockchain system ...   \n",
       "3      The 0x API provides methods to source liquidit...   \n",
       "4      100 Facts About Me is a Russian website dedica...   \n",
       "...                                                  ...   \n",
       "20758  The Zync Upwire API enables developers to set ...   \n",
       "20759  Zyncro is an enterprise social networking serv...   \n",
       "20760  The Zynx Health API provides access to Zynx Co...   \n",
       "20761  The Zype API integrates video features into ap...   \n",
       "20762  Zypr is an application with an API that is des...   \n",
       "\n",
       "                                              Categories  \\\n",
       "0               ['government', 'data', 'data', 'nordic']   \n",
       "1                        ['media', 'search', 'database']   \n",
       "2                 ['blockchain', 'bitcoin', 'community']   \n",
       "3      ['blockchain', 'cryptocurrency', 'currency', '...   \n",
       "4                                  ['social', 'russian']   \n",
       "...                                                  ...   \n",
       "20758       ['messaging', 'campaigns', 'email', 'voice']   \n",
       "20759  ['enterprise', 'social', 'file sharing', 'blog...   \n",
       "20760  ['healthcare', 'content', 'data', 'developers'...   \n",
       "20761  ['video', 'analytics', 'business', 'platform-a...   \n",
       "20762  ['other', 'mobile', 'social', 'mapping', 'weat...   \n",
       "\n",
       "                                                new_cats  \\\n",
       "0                                 {'government', 'data'}   \n",
       "1                        {'search', 'database', 'media'}   \n",
       "2                                          {'community'}   \n",
       "3                              {'currency', 'financial'}   \n",
       "4                                             {'social'}   \n",
       "...                                                  ...   \n",
       "20758                                      {'messaging'}   \n",
       "20759                           {'social', 'enterprise'}   \n",
       "20760  {'healthcare', 'financial', 'management', 'dat...   \n",
       "20761                                       {'business'}   \n",
       "20762           {'mobile', 'other', 'social', 'mapping'}   \n",
       "\n",
       "                                                     des  \n",
       "0      rebro kommun rebro municipality sweden provide...  \n",
       "1      csfd api program interface interact czech slov...  \n",
       "2      ternity blockchain system application educatio...  \n",
       "3      api provide method source liquidity mesh kyber...  \n",
       "4      fact russian website dedicate help people good...  \n",
       "...                                                  ...  \n",
       "20758  zync upwire api enable developer event trigger...  \n",
       "20759  zyncro enterprise social networking service fe...  \n",
       "20760  zynx health api access zynx content healthcare...  \n",
       "20761  zype api integrate video feature application a...  \n",
       "20762  zypr application api design work variety platf...  \n",
       "\n",
       "[20763 rows x 5 columns]"
      ]
     },
     "execution_count": 68,
     "metadata": {},
     "output_type": "execute_result"
    }
   ],
   "source": [
    "dddd"
   ]
  },
  {
   "cell_type": "code",
   "execution_count": null,
   "metadata": {},
   "outputs": [],
   "source": []
  }
 ],
 "metadata": {
  "interpreter": {
   "hash": "ead85409a3df2736fa4852a03cf3afe7e5b1dbdc0e40d7d22bbcbf8cf1adf5fa"
  },
  "kernelspec": {
   "display_name": "Python 3",
   "language": "python",
   "name": "python3"
  },
  "language_info": {
   "codemirror_mode": {
    "name": "ipython",
    "version": 3
   },
   "file_extension": ".py",
   "mimetype": "text/x-python",
   "name": "python",
   "nbconvert_exporter": "python",
   "pygments_lexer": "ipython3",
   "version": "3.8.5"
  }
 },
 "nbformat": 4,
 "nbformat_minor": 4
}
