{
 "cells": [
  {
   "cell_type": "code",
   "execution_count": 2,
   "source": [
    "import pandas as pd\n",
    "import numpy as np\n",
    "from gensim.corpora.dictionary import Dictionary\n",
    "import spacy as sp\n",
    "import torch\n",
    "from eda import lem\n",
    "import pickle"
   ],
   "outputs": [],
   "metadata": {}
  },
  {
   "cell_type": "code",
   "execution_count": 3,
   "source": [
    "vec_model= sp.load('en_core_web_lg')\n",
    "df = pd.read_csv(r'./base_data.csv')\n",
    "parse_list=lambda s:eval(s)\n",
    "des = df.Description\n",
    "cats = df.Categories.apply(parse_list)"
   ],
   "outputs": [
    {
     "output_type": "error",
     "ename": "FileNotFoundError",
     "evalue": "[Errno 2] No such file or directory: './filtered_apis.csv'",
     "traceback": [
      "\u001b[0;31m---------------------------------------------------------------------------\u001b[0m",
      "\u001b[0;31mFileNotFoundError\u001b[0m                         Traceback (most recent call last)",
      "\u001b[0;32m<ipython-input-3-a1d2504ba624>\u001b[0m in \u001b[0;36m<module>\u001b[0;34m\u001b[0m\n\u001b[1;32m      1\u001b[0m \u001b[0mvec_model\u001b[0m\u001b[0;34m=\u001b[0m \u001b[0msp\u001b[0m\u001b[0;34m.\u001b[0m\u001b[0mload\u001b[0m\u001b[0;34m(\u001b[0m\u001b[0;34m'en_core_web_lg'\u001b[0m\u001b[0;34m)\u001b[0m\u001b[0;34m\u001b[0m\u001b[0;34m\u001b[0m\u001b[0m\n\u001b[0;32m----> 2\u001b[0;31m \u001b[0mdf\u001b[0m \u001b[0;34m=\u001b[0m \u001b[0mpd\u001b[0m\u001b[0;34m.\u001b[0m\u001b[0mread_csv\u001b[0m\u001b[0;34m(\u001b[0m\u001b[0;34mr'./filtered_apis.csv'\u001b[0m\u001b[0;34m)\u001b[0m\u001b[0;34m\u001b[0m\u001b[0;34m\u001b[0m\u001b[0m\n\u001b[0m\u001b[1;32m      3\u001b[0m \u001b[0mparse_list\u001b[0m\u001b[0;34m=\u001b[0m\u001b[0;32mlambda\u001b[0m \u001b[0ms\u001b[0m\u001b[0;34m:\u001b[0m\u001b[0meval\u001b[0m\u001b[0;34m(\u001b[0m\u001b[0ms\u001b[0m\u001b[0;34m)\u001b[0m\u001b[0;34m\u001b[0m\u001b[0;34m\u001b[0m\u001b[0m\n\u001b[1;32m      4\u001b[0m \u001b[0mdes\u001b[0m \u001b[0;34m=\u001b[0m \u001b[0mdf\u001b[0m\u001b[0;34m.\u001b[0m\u001b[0mDescription\u001b[0m\u001b[0;34m\u001b[0m\u001b[0;34m\u001b[0m\u001b[0m\n\u001b[1;32m      5\u001b[0m \u001b[0mcats\u001b[0m \u001b[0;34m=\u001b[0m \u001b[0mdf\u001b[0m\u001b[0;34m.\u001b[0m\u001b[0mCategories\u001b[0m\u001b[0;34m.\u001b[0m\u001b[0mapply\u001b[0m\u001b[0;34m(\u001b[0m\u001b[0mparse_list\u001b[0m\u001b[0;34m)\u001b[0m\u001b[0;34m\u001b[0m\u001b[0;34m\u001b[0m\u001b[0m\n",
      "\u001b[0;32m~/anaconda3/lib/python3.8/site-packages/pandas/io/parsers.py\u001b[0m in \u001b[0;36mread_csv\u001b[0;34m(filepath_or_buffer, sep, delimiter, header, names, index_col, usecols, squeeze, prefix, mangle_dupe_cols, dtype, engine, converters, true_values, false_values, skipinitialspace, skiprows, skipfooter, nrows, na_values, keep_default_na, na_filter, verbose, skip_blank_lines, parse_dates, infer_datetime_format, keep_date_col, date_parser, dayfirst, cache_dates, iterator, chunksize, compression, thousands, decimal, lineterminator, quotechar, quoting, doublequote, escapechar, comment, encoding, dialect, error_bad_lines, warn_bad_lines, delim_whitespace, low_memory, memory_map, float_precision)\u001b[0m\n\u001b[1;32m    684\u001b[0m     )\n\u001b[1;32m    685\u001b[0m \u001b[0;34m\u001b[0m\u001b[0m\n\u001b[0;32m--> 686\u001b[0;31m     \u001b[0;32mreturn\u001b[0m \u001b[0m_read\u001b[0m\u001b[0;34m(\u001b[0m\u001b[0mfilepath_or_buffer\u001b[0m\u001b[0;34m,\u001b[0m \u001b[0mkwds\u001b[0m\u001b[0;34m)\u001b[0m\u001b[0;34m\u001b[0m\u001b[0;34m\u001b[0m\u001b[0m\n\u001b[0m\u001b[1;32m    687\u001b[0m \u001b[0;34m\u001b[0m\u001b[0m\n\u001b[1;32m    688\u001b[0m \u001b[0;34m\u001b[0m\u001b[0m\n",
      "\u001b[0;32m~/anaconda3/lib/python3.8/site-packages/pandas/io/parsers.py\u001b[0m in \u001b[0;36m_read\u001b[0;34m(filepath_or_buffer, kwds)\u001b[0m\n\u001b[1;32m    450\u001b[0m \u001b[0;34m\u001b[0m\u001b[0m\n\u001b[1;32m    451\u001b[0m     \u001b[0;31m# Create the parser.\u001b[0m\u001b[0;34m\u001b[0m\u001b[0;34m\u001b[0m\u001b[0;34m\u001b[0m\u001b[0m\n\u001b[0;32m--> 452\u001b[0;31m     \u001b[0mparser\u001b[0m \u001b[0;34m=\u001b[0m \u001b[0mTextFileReader\u001b[0m\u001b[0;34m(\u001b[0m\u001b[0mfp_or_buf\u001b[0m\u001b[0;34m,\u001b[0m \u001b[0;34m**\u001b[0m\u001b[0mkwds\u001b[0m\u001b[0;34m)\u001b[0m\u001b[0;34m\u001b[0m\u001b[0;34m\u001b[0m\u001b[0m\n\u001b[0m\u001b[1;32m    453\u001b[0m \u001b[0;34m\u001b[0m\u001b[0m\n\u001b[1;32m    454\u001b[0m     \u001b[0;32mif\u001b[0m \u001b[0mchunksize\u001b[0m \u001b[0;32mor\u001b[0m \u001b[0miterator\u001b[0m\u001b[0;34m:\u001b[0m\u001b[0;34m\u001b[0m\u001b[0;34m\u001b[0m\u001b[0m\n",
      "\u001b[0;32m~/anaconda3/lib/python3.8/site-packages/pandas/io/parsers.py\u001b[0m in \u001b[0;36m__init__\u001b[0;34m(self, f, engine, **kwds)\u001b[0m\n\u001b[1;32m    944\u001b[0m             \u001b[0mself\u001b[0m\u001b[0;34m.\u001b[0m\u001b[0moptions\u001b[0m\u001b[0;34m[\u001b[0m\u001b[0;34m\"has_index_names\"\u001b[0m\u001b[0;34m]\u001b[0m \u001b[0;34m=\u001b[0m \u001b[0mkwds\u001b[0m\u001b[0;34m[\u001b[0m\u001b[0;34m\"has_index_names\"\u001b[0m\u001b[0;34m]\u001b[0m\u001b[0;34m\u001b[0m\u001b[0;34m\u001b[0m\u001b[0m\n\u001b[1;32m    945\u001b[0m \u001b[0;34m\u001b[0m\u001b[0m\n\u001b[0;32m--> 946\u001b[0;31m         \u001b[0mself\u001b[0m\u001b[0;34m.\u001b[0m\u001b[0m_make_engine\u001b[0m\u001b[0;34m(\u001b[0m\u001b[0mself\u001b[0m\u001b[0;34m.\u001b[0m\u001b[0mengine\u001b[0m\u001b[0;34m)\u001b[0m\u001b[0;34m\u001b[0m\u001b[0;34m\u001b[0m\u001b[0m\n\u001b[0m\u001b[1;32m    947\u001b[0m \u001b[0;34m\u001b[0m\u001b[0m\n\u001b[1;32m    948\u001b[0m     \u001b[0;32mdef\u001b[0m \u001b[0mclose\u001b[0m\u001b[0;34m(\u001b[0m\u001b[0mself\u001b[0m\u001b[0;34m)\u001b[0m\u001b[0;34m:\u001b[0m\u001b[0;34m\u001b[0m\u001b[0;34m\u001b[0m\u001b[0m\n",
      "\u001b[0;32m~/anaconda3/lib/python3.8/site-packages/pandas/io/parsers.py\u001b[0m in \u001b[0;36m_make_engine\u001b[0;34m(self, engine)\u001b[0m\n\u001b[1;32m   1176\u001b[0m     \u001b[0;32mdef\u001b[0m \u001b[0m_make_engine\u001b[0m\u001b[0;34m(\u001b[0m\u001b[0mself\u001b[0m\u001b[0;34m,\u001b[0m \u001b[0mengine\u001b[0m\u001b[0;34m=\u001b[0m\u001b[0;34m\"c\"\u001b[0m\u001b[0;34m)\u001b[0m\u001b[0;34m:\u001b[0m\u001b[0;34m\u001b[0m\u001b[0;34m\u001b[0m\u001b[0m\n\u001b[1;32m   1177\u001b[0m         \u001b[0;32mif\u001b[0m \u001b[0mengine\u001b[0m \u001b[0;34m==\u001b[0m \u001b[0;34m\"c\"\u001b[0m\u001b[0;34m:\u001b[0m\u001b[0;34m\u001b[0m\u001b[0;34m\u001b[0m\u001b[0m\n\u001b[0;32m-> 1178\u001b[0;31m             \u001b[0mself\u001b[0m\u001b[0;34m.\u001b[0m\u001b[0m_engine\u001b[0m \u001b[0;34m=\u001b[0m \u001b[0mCParserWrapper\u001b[0m\u001b[0;34m(\u001b[0m\u001b[0mself\u001b[0m\u001b[0;34m.\u001b[0m\u001b[0mf\u001b[0m\u001b[0;34m,\u001b[0m \u001b[0;34m**\u001b[0m\u001b[0mself\u001b[0m\u001b[0;34m.\u001b[0m\u001b[0moptions\u001b[0m\u001b[0;34m)\u001b[0m\u001b[0;34m\u001b[0m\u001b[0;34m\u001b[0m\u001b[0m\n\u001b[0m\u001b[1;32m   1179\u001b[0m         \u001b[0;32melse\u001b[0m\u001b[0;34m:\u001b[0m\u001b[0;34m\u001b[0m\u001b[0;34m\u001b[0m\u001b[0m\n\u001b[1;32m   1180\u001b[0m             \u001b[0;32mif\u001b[0m \u001b[0mengine\u001b[0m \u001b[0;34m==\u001b[0m \u001b[0;34m\"python\"\u001b[0m\u001b[0;34m:\u001b[0m\u001b[0;34m\u001b[0m\u001b[0;34m\u001b[0m\u001b[0m\n",
      "\u001b[0;32m~/anaconda3/lib/python3.8/site-packages/pandas/io/parsers.py\u001b[0m in \u001b[0;36m__init__\u001b[0;34m(self, src, **kwds)\u001b[0m\n\u001b[1;32m   2006\u001b[0m         \u001b[0mkwds\u001b[0m\u001b[0;34m[\u001b[0m\u001b[0;34m\"usecols\"\u001b[0m\u001b[0;34m]\u001b[0m \u001b[0;34m=\u001b[0m \u001b[0mself\u001b[0m\u001b[0;34m.\u001b[0m\u001b[0musecols\u001b[0m\u001b[0;34m\u001b[0m\u001b[0;34m\u001b[0m\u001b[0m\n\u001b[1;32m   2007\u001b[0m \u001b[0;34m\u001b[0m\u001b[0m\n\u001b[0;32m-> 2008\u001b[0;31m         \u001b[0mself\u001b[0m\u001b[0;34m.\u001b[0m\u001b[0m_reader\u001b[0m \u001b[0;34m=\u001b[0m \u001b[0mparsers\u001b[0m\u001b[0;34m.\u001b[0m\u001b[0mTextReader\u001b[0m\u001b[0;34m(\u001b[0m\u001b[0msrc\u001b[0m\u001b[0;34m,\u001b[0m \u001b[0;34m**\u001b[0m\u001b[0mkwds\u001b[0m\u001b[0;34m)\u001b[0m\u001b[0;34m\u001b[0m\u001b[0;34m\u001b[0m\u001b[0m\n\u001b[0m\u001b[1;32m   2009\u001b[0m         \u001b[0mself\u001b[0m\u001b[0;34m.\u001b[0m\u001b[0munnamed_cols\u001b[0m \u001b[0;34m=\u001b[0m \u001b[0mself\u001b[0m\u001b[0;34m.\u001b[0m\u001b[0m_reader\u001b[0m\u001b[0;34m.\u001b[0m\u001b[0munnamed_cols\u001b[0m\u001b[0;34m\u001b[0m\u001b[0;34m\u001b[0m\u001b[0m\n\u001b[1;32m   2010\u001b[0m \u001b[0;34m\u001b[0m\u001b[0m\n",
      "\u001b[0;32mpandas/_libs/parsers.pyx\u001b[0m in \u001b[0;36mpandas._libs.parsers.TextReader.__cinit__\u001b[0;34m()\u001b[0m\n",
      "\u001b[0;32mpandas/_libs/parsers.pyx\u001b[0m in \u001b[0;36mpandas._libs.parsers.TextReader._setup_parser_source\u001b[0;34m()\u001b[0m\n",
      "\u001b[0;31mFileNotFoundError\u001b[0m: [Errno 2] No such file or directory: './filtered_apis.csv'"
     ]
    }
   ],
   "metadata": {}
  },
  {
   "cell_type": "code",
   "execution_count": null,
   "source": [],
   "outputs": [],
   "metadata": {}
  },
  {
   "cell_type": "code",
   "execution_count": 6,
   "source": [
    "from nltk import pos_tag_sents\n",
    "pos_tags = pos_tag_sents(des.apply(lem))"
   ],
   "outputs": [],
   "metadata": {}
  },
  {
   "cell_type": "code",
   "execution_count": 8,
   "source": [
    "# nn_sents = pd.Series([' '.join([e[0] for e in li]) for li in pos_tags])\n",
    "# nn_sents.dropna()"
   ],
   "outputs": [
    {
     "output_type": "execute_result",
     "data": {
      "text/plain": [
       "0        rebro kommun rebro municipality sweden provide...\n",
       "1        csfd api program interface interact czech slov...\n",
       "2        ternity decentralize blockchain system applica...\n",
       "3        api provide method source liquidity mesh kyber...\n",
       "4        fact russian website dedicate help people beco...\n",
       "                               ...                        \n",
       "20758    zync upwire api enable developer set event tri...\n",
       "20759    zyncro enterprise social networking service pr...\n",
       "20760    zynx health api provide access zynx content fa...\n",
       "20761    zype api integrate video feature application a...\n",
       "20762    zypr application api design work across variet...\n",
       "Length: 20763, dtype: object"
      ]
     },
     "metadata": {},
     "execution_count": 8
    }
   ],
   "metadata": {}
  },
  {
   "cell_type": "code",
   "execution_count": 7,
   "source": [
    "nn_words = []\n",
    "def dup_nn(li):\n",
    "    res = ''\n",
    "    nns = set()\n",
    "    for w,att in li:\n",
    "        if att.startswith('NN') or att.startswith('JJ'):\n",
    "            res += w+' '\n",
    "            nns.add(w)\n",
    "        # res += w+' '\n",
    "    nn_words.append(nns)\n",
    "    return res\n",
    "nn_sents = pd.Series([dup_nn(sent) for sent in pos_tags])"
   ],
   "outputs": [],
   "metadata": {}
  },
  {
   "cell_type": "code",
   "execution_count": 8,
   "source": [
    "# nn_docs = nn_sents.apply(lambda x:vec_model(x))\n",
    "nn_docs = cats.apply(lambda x:' '.join(set(x))).apply(vec_model)\n",
    "def get_most_sim(sent_doc,nns,topn = 3):\n",
    "    words = []\n",
    "    if not sent_doc:\n",
    "        return []\n",
    "    if len(sent_doc)<2:\n",
    "        return []\n",
    "    # words = [ (w,max([tag.similarity(vec_model.vocab[w]) for tag in sent_doc])) for w in nns]\n",
    "    for w in nns:\n",
    "        ve = vec_model.vocab[w]\n",
    "        sim = sent_doc.similarity(ve)\n",
    "        words.append((w,sim))\n",
    "    # words.sort(key= lambda x:x[1])\n",
    "    return words\n",
    "nn_en = pd.Series([[(t,)*round(5*wei) for t,wei in get_most_sim(doc,nns)] for doc,nns in zip(nn_docs,nn_words)])"
   ],
   "outputs": [
    {
     "output_type": "stream",
     "name": "stderr",
     "text": [
      "<ipython-input-8-94de49c9adb3>:12: UserWarning: [W008] Evaluating Doc.similarity based on empty vectors.\n",
      "  sim = sent_doc.similarity(ve)\n"
     ]
    }
   ],
   "metadata": {}
  },
  {
   "cell_type": "markdown",
   "source": [
    "1-将内容中名词简单重复\n",
    "2-将所有名词按和tag的相似度来进行重复n次\n"
   ],
   "metadata": {}
  },
  {
   "cell_type": "code",
   "execution_count": 9,
   "source": [
    "nn_en = nn_en.apply(lambda x: ' '.join([' '.join(en) for en in x]))\n",
    "nn_sents = nn_sents+' '+nn_en\n",
    "df['des'] = nn_sents\n"
   ],
   "outputs": [],
   "metadata": {}
  },
  {
   "cell_type": "code",
   "execution_count": 10,
   "source": [
    "nn_sents[0]"
   ],
   "outputs": [
    {
     "output_type": "execute_result",
     "data": {
      "text/plain": [
       "'rebro kommun rebro municipality sweden provide portal government data information waste recycle library transit politics sport culture business tourism much information map restful api data xml json site documentation swedish  documentation documentation culture culture site sport sport government government government sweden sweden api much much map map   waste waste swedish xml  provide provide recycle data data data data transit transit portal portal library library municipality municipality politics politics tourism tourism business business information information information '"
      ]
     },
     "metadata": {},
     "execution_count": 10
    }
   ],
   "metadata": {}
  },
  {
   "cell_type": "code",
   "execution_count": 11,
   "source": [
    "nn_vecs = nn_sents.apply(vec_model)"
   ],
   "outputs": [],
   "metadata": {}
  },
  {
   "cell_type": "code",
   "execution_count": 12,
   "source": [
    "rel_cats = [[(t,d.similarity(vec_model.vocab[t])) for t in tags] for d,tags in zip(nn_vecs,cats)]"
   ],
   "outputs": [
    {
     "output_type": "stream",
     "name": "stderr",
     "text": [
      "<ipython-input-12-3b118e43b4a0>:1: UserWarning: [W008] Evaluating Doc.similarity based on empty vectors.\n",
      "  rel_cats = [[(t,d.similarity(vec_model.vocab[t])) for t in tags] for d,tags in zip(nn_vecs,cats)]\n"
     ]
    }
   ],
   "metadata": {}
  },
  {
   "cell_type": "code",
   "execution_count": 13,
   "source": [
    "df['new_cats']= [set(x[0] for x in list(filter(lambda x:x[1]>0.5,li))) for li in rel_cats]"
   ],
   "outputs": [],
   "metadata": {}
  },
  {
   "cell_type": "code",
   "execution_count": 14,
   "source": [
    "df.to_csv('processed.csv',index=None)"
   ],
   "outputs": [],
   "metadata": {}
  },
  {
   "cell_type": "code",
   "execution_count": 15,
   "source": [
    "dddd = pd.read_csv('processed.csv')"
   ],
   "outputs": [],
   "metadata": {}
  },
  {
   "cell_type": "code",
   "execution_count": 68,
   "source": [
    "dddd"
   ],
   "outputs": [
    {
     "output_type": "execute_result",
     "data": {
      "text/html": [
       "<div>\n",
       "<style scoped>\n",
       "    .dataframe tbody tr th:only-of-type {\n",
       "        vertical-align: middle;\n",
       "    }\n",
       "\n",
       "    .dataframe tbody tr th {\n",
       "        vertical-align: top;\n",
       "    }\n",
       "\n",
       "    .dataframe thead th {\n",
       "        text-align: right;\n",
       "    }\n",
       "</style>\n",
       "<table border=\"1\" class=\"dataframe\">\n",
       "  <thead>\n",
       "    <tr style=\"text-align: right;\">\n",
       "      <th></th>\n",
       "      <th>Name</th>\n",
       "      <th>Description</th>\n",
       "      <th>Categories</th>\n",
       "      <th>new_cats</th>\n",
       "      <th>des</th>\n",
       "    </tr>\n",
       "  </thead>\n",
       "  <tbody>\n",
       "    <tr>\n",
       "      <th>0</th>\n",
       "      <td>Ã–rebro kommun</td>\n",
       "      <td>rebro kommun    rebro municipality  Sweden  ...</td>\n",
       "      <td>['government', 'data', 'data', 'nordic']</td>\n",
       "      <td>{'government', 'data'}</td>\n",
       "      <td>rebro kommun rebro municipality sweden provide...</td>\n",
       "    </tr>\n",
       "    <tr>\n",
       "      <th>1</th>\n",
       "      <td>ÄŒSFD</td>\n",
       "      <td>The CSFD API is a programming interface to int...</td>\n",
       "      <td>['media', 'search', 'database']</td>\n",
       "      <td>{'search', 'database', 'media'}</td>\n",
       "      <td>csfd api program interface interact czech slov...</td>\n",
       "    </tr>\n",
       "    <tr>\n",
       "      <th>2</th>\n",
       "      <td>Æternity REST API v2</td>\n",
       "      <td>ternity is a decentralized blockchain system ...</td>\n",
       "      <td>['blockchain', 'bitcoin', 'community']</td>\n",
       "      <td>{'community'}</td>\n",
       "      <td>ternity blockchain system application educatio...</td>\n",
       "    </tr>\n",
       "    <tr>\n",
       "      <th>3</th>\n",
       "      <td>0x</td>\n",
       "      <td>The 0x API provides methods to source liquidit...</td>\n",
       "      <td>['blockchain', 'cryptocurrency', 'currency', '...</td>\n",
       "      <td>{'currency', 'financial'}</td>\n",
       "      <td>api provide method source liquidity mesh kyber...</td>\n",
       "    </tr>\n",
       "    <tr>\n",
       "      <th>4</th>\n",
       "      <td>100 Facts About Me</td>\n",
       "      <td>100 Facts About Me is a Russian website dedica...</td>\n",
       "      <td>['social', 'russian']</td>\n",
       "      <td>{'social'}</td>\n",
       "      <td>fact russian website dedicate help people good...</td>\n",
       "    </tr>\n",
       "    <tr>\n",
       "      <th>...</th>\n",
       "      <td>...</td>\n",
       "      <td>...</td>\n",
       "      <td>...</td>\n",
       "      <td>...</td>\n",
       "      <td>...</td>\n",
       "    </tr>\n",
       "    <tr>\n",
       "      <th>20758</th>\n",
       "      <td>Zync Upwire</td>\n",
       "      <td>The Zync Upwire API enables developers to set ...</td>\n",
       "      <td>['messaging', 'campaigns', 'email', 'voice']</td>\n",
       "      <td>{'messaging'}</td>\n",
       "      <td>zync upwire api enable developer event trigger...</td>\n",
       "    </tr>\n",
       "    <tr>\n",
       "      <th>20759</th>\n",
       "      <td>Zyncro</td>\n",
       "      <td>Zyncro is an enterprise social networking serv...</td>\n",
       "      <td>['enterprise', 'social', 'file sharing', 'blog...</td>\n",
       "      <td>{'social', 'enterprise'}</td>\n",
       "      <td>zyncro enterprise social networking service fe...</td>\n",
       "    </tr>\n",
       "    <tr>\n",
       "      <th>20760</th>\n",
       "      <td>Zynx Health</td>\n",
       "      <td>The Zynx Health API provides access to Zynx Co...</td>\n",
       "      <td>['healthcare', 'content', 'data', 'developers'...</td>\n",
       "      <td>{'healthcare', 'financial', 'management', 'dat...</td>\n",
       "      <td>zynx health api access zynx content healthcare...</td>\n",
       "    </tr>\n",
       "    <tr>\n",
       "      <th>20761</th>\n",
       "      <td>Zype</td>\n",
       "      <td>The Zype API integrates video features into ap...</td>\n",
       "      <td>['video', 'analytics', 'business', 'platform-a...</td>\n",
       "      <td>{'business'}</td>\n",
       "      <td>zype api integrate video feature application a...</td>\n",
       "    </tr>\n",
       "    <tr>\n",
       "      <th>20762</th>\n",
       "      <td>Zypr</td>\n",
       "      <td>Zypr is an application with an API that is des...</td>\n",
       "      <td>['other', 'mobile', 'social', 'mapping', 'weat...</td>\n",
       "      <td>{'mobile', 'other', 'social', 'mapping'}</td>\n",
       "      <td>zypr application api design work variety platf...</td>\n",
       "    </tr>\n",
       "  </tbody>\n",
       "</table>\n",
       "<p>20763 rows × 5 columns</p>\n",
       "</div>"
      ],
      "text/plain": [
       "                       Name  \\\n",
       "0            Ã–rebro kommun   \n",
       "1                     ÄŒSFD   \n",
       "2      Æternity REST API v2   \n",
       "3                        0x   \n",
       "4        100 Facts About Me   \n",
       "...                     ...   \n",
       "20758           Zync Upwire   \n",
       "20759                Zyncro   \n",
       "20760           Zynx Health   \n",
       "20761                  Zype   \n",
       "20762                  Zypr   \n",
       "\n",
       "                                             Description  \\\n",
       "0        rebro kommun    rebro municipality  Sweden  ...   \n",
       "1      The CSFD API is a programming interface to int...   \n",
       "2       ternity is a decentralized blockchain system ...   \n",
       "3      The 0x API provides methods to source liquidit...   \n",
       "4      100 Facts About Me is a Russian website dedica...   \n",
       "...                                                  ...   \n",
       "20758  The Zync Upwire API enables developers to set ...   \n",
       "20759  Zyncro is an enterprise social networking serv...   \n",
       "20760  The Zynx Health API provides access to Zynx Co...   \n",
       "20761  The Zype API integrates video features into ap...   \n",
       "20762  Zypr is an application with an API that is des...   \n",
       "\n",
       "                                              Categories  \\\n",
       "0               ['government', 'data', 'data', 'nordic']   \n",
       "1                        ['media', 'search', 'database']   \n",
       "2                 ['blockchain', 'bitcoin', 'community']   \n",
       "3      ['blockchain', 'cryptocurrency', 'currency', '...   \n",
       "4                                  ['social', 'russian']   \n",
       "...                                                  ...   \n",
       "20758       ['messaging', 'campaigns', 'email', 'voice']   \n",
       "20759  ['enterprise', 'social', 'file sharing', 'blog...   \n",
       "20760  ['healthcare', 'content', 'data', 'developers'...   \n",
       "20761  ['video', 'analytics', 'business', 'platform-a...   \n",
       "20762  ['other', 'mobile', 'social', 'mapping', 'weat...   \n",
       "\n",
       "                                                new_cats  \\\n",
       "0                                 {'government', 'data'}   \n",
       "1                        {'search', 'database', 'media'}   \n",
       "2                                          {'community'}   \n",
       "3                              {'currency', 'financial'}   \n",
       "4                                             {'social'}   \n",
       "...                                                  ...   \n",
       "20758                                      {'messaging'}   \n",
       "20759                           {'social', 'enterprise'}   \n",
       "20760  {'healthcare', 'financial', 'management', 'dat...   \n",
       "20761                                       {'business'}   \n",
       "20762           {'mobile', 'other', 'social', 'mapping'}   \n",
       "\n",
       "                                                     des  \n",
       "0      rebro kommun rebro municipality sweden provide...  \n",
       "1      csfd api program interface interact czech slov...  \n",
       "2      ternity blockchain system application educatio...  \n",
       "3      api provide method source liquidity mesh kyber...  \n",
       "4      fact russian website dedicate help people good...  \n",
       "...                                                  ...  \n",
       "20758  zync upwire api enable developer event trigger...  \n",
       "20759  zyncro enterprise social networking service fe...  \n",
       "20760  zynx health api access zynx content healthcare...  \n",
       "20761  zype api integrate video feature application a...  \n",
       "20762  zypr application api design work variety platf...  \n",
       "\n",
       "[20763 rows x 5 columns]"
      ]
     },
     "metadata": {},
     "execution_count": 68
    }
   ],
   "metadata": {}
  },
  {
   "cell_type": "code",
   "execution_count": null,
   "source": [],
   "outputs": [],
   "metadata": {}
  }
 ],
 "metadata": {
  "kernelspec": {
   "name": "python3",
   "display_name": "Python 3.8.5 64-bit ('base': conda)"
  },
  "language_info": {
   "codemirror_mode": {
    "name": "ipython",
    "version": 3
   },
   "file_extension": ".py",
   "mimetype": "text/x-python",
   "name": "python",
   "nbconvert_exporter": "python",
   "pygments_lexer": "ipython3",
   "version": "3.8.5"
  },
  "interpreter": {
   "hash": "ead85409a3df2736fa4852a03cf3afe7e5b1dbdc0e40d7d22bbcbf8cf1adf5fa"
  }
 },
 "nbformat": 4,
 "nbformat_minor": 4
}