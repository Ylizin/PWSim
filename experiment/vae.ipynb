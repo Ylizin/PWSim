{
 "cells": [
  {
   "cell_type": "code",
   "execution_count": 1,
   "metadata": {},
   "outputs": [],
   "source": [
    "from eval.trainVAE import VAEEval\n",
    "v = VAEEval()"
   ]
  },
  {
   "cell_type": "code",
   "execution_count": 2,
   "metadata": {},
   "outputs": [],
   "source": [
    "from sklearn.manifold import TSNE\n",
    "from sklearn.cluster import DBSCAN,Birch\n",
    "from sklearn.metrics import calinski_harabasz_score"
   ]
  },
  {
   "cell_type": "code",
   "execution_count": 3,
   "metadata": {},
   "outputs": [],
   "source": [
    "fe = v.feature_extractor\n",
    "data = v.data_set.ext_df.tolist()\n",
    "_pred = v.data_set.tag_ids.tolist()\n",
    "ori = v.data_set.ori_df"
   ]
  },
  {
   "cell_type": "code",
   "execution_count": 4,
   "metadata": {},
   "outputs": [
    {
     "data": {
      "text/plain": [
       "'blockchain originally block chain grow list record call block link use cryptography block contains cryptographic hash previous block timestamp transaction data generally represent merkle tree cryptocurrency crypto currency digital asset design work medium exchange wherein individual coin ownership record store ledger exist form computerized database use strong cryptography secure transaction record control creation additional coin verify transfer coin ownership typically exist physical form like paper money typically issue central authority cryptocurrencies typically use decentralize control oppose centralize digital currency central banking system cryptocurrency mint create prior issuance issue single issuer generally consider centralize implemented decentralize control cryptocurrency work distribute ledger technology typically blockchain serf public financial transaction database numismatics portal economics social science study production distribution consumption good service finance term matter regard management creation study money investment specifically deal question individual company government acquire money need call capital company context spend invest money finance often split per follow major category corporate finance personal finance public finance'"
      ]
     },
     "execution_count": 4,
     "metadata": {},
     "output_type": "execute_result"
    }
   ],
   "source": [
    "v.data_set.ori_df.iloc[0,2]"
   ]
  },
  {
   "cell_type": "code",
   "execution_count": 4,
   "metadata": {},
   "outputs": [
    {
     "data": {
      "text/plain": [
       "0\n",
       "1       [tensor(22), tensor(22), tensor(22), tensor(1)...\n",
       "3       [tensor(11664), tensor(60), tensor(11664), ten...\n",
       "5       [tensor(11672), tensor(11665), tensor(11668), ...\n",
       "22      [tensor(62), tensor(132), tensor(131), tensor(...\n",
       "33      [tensor(195), tensor(193), tensor(11673), tens...\n",
       "                              ...                        \n",
       "8165    [tensor(186), tensor(12083), tensor(11655), te...\n",
       "8166    [tensor(11806), tensor(6148), tensor(186), ten...\n",
       "8170    [tensor(2331), tensor(12679), tensor(11637), t...\n",
       "8173    [tensor(6008), tensor(11672), tensor(17274), t...\n",
       "8174    [tensor(11672), tensor(17274), tensor(11875), ...\n",
       "Name: 5, Length: 2750, dtype: object"
      ]
     },
     "execution_count": 4,
     "metadata": {},
     "output_type": "execute_result"
    }
   ],
   "source": [
    "v.data_set.raw_ids"
   ]
  },
  {
   "cell_type": "code",
   "execution_count": null,
   "metadata": {},
   "outputs": [],
   "source": [
    "v.query_ext([v.data_set.pos[1][0]])"
   ]
  },
  {
   "cell_type": "code",
   "execution_count": null,
   "metadata": {},
   "outputs": [],
   "source": [
    "v.data_set.ext_df"
   ]
  },
  {
   "cell_type": "code",
   "execution_count": 4,
   "metadata": {},
   "outputs": [
    {
     "name": "stdout",
     "output_type": "stream",
     "text": [
      "epoch:0,loss:38124636.5\n",
      "tensor(67.8584, device='cuda:0', grad_fn=<SumBackward0>)\n",
      "epoch:1,loss:38124552.0\n",
      "epoch:2,loss:38124542.5\n",
      "epoch:3,loss:38124541.25\n",
      "epoch:4,loss:38124539.75\n",
      "epoch:5,loss:38124538.75\n",
      "epoch:6,loss:38124538.75\n",
      "epoch:7,loss:38124538.75\n",
      "epoch:8,loss:38124538.75\n",
      "epoch:9,loss:38124538.75\n",
      "epoch:10,loss:38124538.75\n",
      "tensor(68.8086, device='cuda:0', grad_fn=<SumBackward0>)\n",
      "epoch:11,loss:38124538.75\n",
      "epoch:12,loss:38124538.75\n",
      "epoch:13,loss:38124538.75\n",
      "epoch:14,loss:38124538.75\n",
      "epoch:15,loss:38124538.75\n",
      "epoch:16,loss:38124538.75\n",
      "epoch:17,loss:38124538.75\n",
      "epoch:18,loss:38124538.75\n",
      "epoch:19,loss:38124538.75\n",
      "epoch:20,loss:38124538.75\n",
      "tensor(70.4808, device='cuda:0', grad_fn=<SumBackward0>)\n",
      "epoch:21,loss:38124538.75\n",
      "epoch:22,loss:38124538.75\n",
      "epoch:23,loss:38124538.75\n",
      "epoch:24,loss:38124538.75\n",
      "epoch:25,loss:38124538.75\n",
      "epoch:26,loss:38124538.25\n",
      "epoch:27,loss:38124538.25\n",
      "epoch:28,loss:38124538.25\n",
      "epoch:29,loss:38124538.25\n"
     ]
    }
   ],
   "source": [
    "v.train()"
   ]
  },
  {
   "cell_type": "code",
   "execution_count": 5,
   "metadata": {},
   "outputs": [],
   "source": [
    "# fe = t.vae\n",
    "# _,theta,*_ = fe(data,pred=_pred)\n",
    "_,theta,*_ = fe(data)"
   ]
  },
  {
   "cell_type": "code",
   "execution_count": 6,
   "metadata": {},
   "outputs": [],
   "source": [
    "def do_tsne(X):\n",
    "    tsne = TSNE(n_components=2)\n",
    "    new_x = tsne.fit_transform(X)\n",
    "    return new_x,tsne"
   ]
  },
  {
   "cell_type": "code",
   "execution_count": 7,
   "metadata": {},
   "outputs": [],
   "source": [
    "t,tsne = do_tsne(theta.cpu().detach())"
   ]
  },
  {
   "cell_type": "code",
   "execution_count": 8,
   "metadata": {},
   "outputs": [
    {
     "data": {
      "image/png": "[encoded data removed]",
      "text/plain": [
       "<Figure size 360x360 with 1 Axes>"
      ]
     },
     "metadata": {
      "needs_background": "light"
     },
     "output_type": "display_data"
    }
   ],
   "source": [
    "import matplotlib.pyplot as plt\n",
    "fig = plt.figure('enriched',(5,5))\n",
    "fig.text(0.35,0.9,'Original descriptions')\n",
    "ax = fig.add_subplot(111)\n",
    "ax.scatter(t[:,0],t[:,1])\n",
    "fig.show()"
   ]
  },
  {
   "cell_type": "code",
   "execution_count": null,
   "metadata": {},
   "outputs": [],
   "source": [
    "from sklearn.cluster import KMeans,DBSCAN\n",
    "km = KMeans()\n",
    "db = DBSCAN()"
   ]
  },
  {
   "cell_type": "code",
   "execution_count": null,
   "metadata": {},
   "outputs": [],
   "source": [
    "r1 = km.fit_predict(t)\n",
    "r2 = db.fit_predict(theta.cpu().detach())"
   ]
  },
  {
   "cell_type": "code",
   "execution_count": null,
   "metadata": {},
   "outputs": [],
   "source": [
    "import matplotlib.pyplot as plt\n",
    "fig = plt.figure('enriched',(5,5))\n",
    "fig.text(0.35,0.9,'Original descriptions')\n",
    "ax = fig.add_subplot(111)\n",
    "ax.scatter(t[:,0],t[:,1],c=r1)\n",
    "\n",
    "fig.show()"
   ]
  },
  {
   "cell_type": "code",
   "execution_count": null,
   "metadata": {},
   "outputs": [],
   "source": [
    "ori[r1==1]"
   ]
  },
  {
   "cell_type": "code",
   "execution_count": null,
   "metadata": {},
   "outputs": [],
   "source": [
    "from eval.TagLSTMEval_topic import LSTMEval\n",
    "model = LSTMEval()"
   ]
  },
  {
   "cell_type": "code",
   "execution_count": null,
   "metadata": {},
   "outputs": [],
   "source": [
    "model.train()"
   ]
  },
  {
   "cell_type": "code",
   "execution_count": null,
   "metadata": {},
   "outputs": [],
   "source": [
    "torch.autograd.set_grad_enabled(False)\n",
    "\n",
    "for id1,id2,l in model.train_data_loader:\n",
    "    break\n",
    "in1 = model.get_BoWs(id1)    \n",
    "in2 = model.ext_df[id2]\n",
    "text2 = model.data_set[id2]"
   ]
  },
  {
   "cell_type": "code",
   "execution_count": null,
   "metadata": {},
   "outputs": [],
   "source": [
    "positives = torch.sort(l,descending=True)[1]"
   ]
  },
  {
   "cell_type": "code",
   "execution_count": null,
   "metadata": {},
   "outputs": [],
   "source": [
    "import torch\n",
    "f1,w1 = model.feature_extractor([torch.LongTensor(s) for s in id1],in1,model.vae)"
   ]
  },
  {
   "cell_type": "code",
   "execution_count": null,
   "metadata": {},
   "outputs": [],
   "source": [
    "k = positives[2].item()\n",
    "w1[k]"
   ]
  },
  {
   "cell_type": "code",
   "execution_count": null,
   "metadata": {},
   "outputs": [],
   "source": [
    "[model.di.id2token[_i] for _i in id1[k]]"
   ]
  },
  {
   "cell_type": "code",
   "execution_count": null,
   "metadata": {},
   "outputs": [],
   "source": [
    "f2,w2 = model.feature_extractor(text2,in2,model.vae)"
   ]
  },
  {
   "cell_type": "code",
   "execution_count": null,
   "metadata": {},
   "outputs": [],
   "source": [
    "[model.di.id2token[_i] for _i in text2.iloc[k].numpy().tolist()]"
   ]
  },
  {
   "cell_type": "code",
   "execution_count": null,
   "metadata": {},
   "outputs": [],
   "source": [
    "word_mask = (w2[k]>0.5).squeeze()[:len(text2.iloc[k])]"
   ]
  },
  {
   "cell_type": "code",
   "execution_count": null,
   "metadata": {},
   "outputs": [],
   "source": [
    "[model.di.id2token[_i] for _i in text2.iloc[k][word_mask].numpy().tolist()]"
   ]
  },
  {
   "cell_type": "code",
   "execution_count": null,
   "metadata": {},
   "outputs": [],
   "source": [
    "model.cos(f1,f2)[k]"
   ]
  },
  {
   "cell_type": "code",
   "execution_count": null,
   "metadata": {},
   "outputs": [],
   "source": [
    "for id1 in model.test_keys:\n",
    "    break\n",
    "pos = list(model.data_set.pos[id1][1])\n",
    "text_bow = model.get_BoWs([model.data_set.pos[id1][0]])\n",
    "text = [torch.LongTensor(model.data_set.pos[id1][0])]"
   ]
  },
  {
   "cell_type": "code",
   "execution_count": null,
   "metadata": {},
   "outputs": [],
   "source": [
    "[model.di.id2token[_i] for _i in text[0].numpy()]"
   ]
  },
  {
   "cell_type": "code",
   "execution_count": null,
   "metadata": {},
   "outputs": [],
   "source": [
    "all_f = []\n",
    "for _ids in model.ids_loader:\n",
    "    _t = model.data_set[_ids.cpu().numpy()]\n",
    "#   _b = self.bow[_ids.cpu().numpy()]\n",
    "    _b = model.ext_df[_ids.cpu().numpy()]\n",
    "    _f,*_ = model.feature_extractor(_t,_b,model.vae)\n",
    "\n",
    "    all_f.append(_f.cpu())\n",
    "all_f = torch.cat(all_f,dim = 0).view(len(model.data_set),-1)"
   ]
  },
  {
   "cell_type": "code",
   "execution_count": null,
   "metadata": {},
   "outputs": [],
   "source": [
    "torch.cuda.empty_cache()"
   ]
  },
  {
   "cell_type": "code",
   "execution_count": null,
   "metadata": {},
   "outputs": [],
   "source": []
  },
  {
   "cell_type": "code",
   "execution_count": null,
   "metadata": {},
   "outputs": [],
   "source": []
  }
 ],
 "metadata": {
  "interpreter": {
   "hash": "caf1c2fcf97217de91eafa76b907d50f9ea378f5ffbee7f571142d119bb6a771"
  },
  "kernelspec": {
   "display_name": "Python 3",
   "language": "python",
   "name": "python3"
  },
  "language_info": {
   "codemirror_mode": {
    "name": "ipython",
    "version": 3
   },
   "file_extension": ".py",
   "mimetype": "text/x-python",
   "name": "python",
   "nbconvert_exporter": "python",
   "pygments_lexer": "ipython3",
   "version": "3.8.5"
  }
 },
 "nbformat": 4,
 "nbformat_minor": 4
}
