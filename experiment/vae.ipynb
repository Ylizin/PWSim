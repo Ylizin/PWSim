{
 "cells": [
  {
   "cell_type": "code",
   "execution_count": 1,
   "metadata": {},
   "outputs": [],
   "source": [
    "from eval.trainVAE import VAEEval\n",
    "v = VAEEval()"
   ]
  },
  {
   "cell_type": "code",
   "execution_count": 2,
   "metadata": {},
   "outputs": [],
   "source": [
    "from sklearn.manifold import TSNE\n",
    "from sklearn.cluster import DBSCAN,Birch\n",
    "from sklearn.metrics import calinski_harabasz_score"
   ]
  },
  {
   "cell_type": "code",
   "execution_count": 3,
   "metadata": {},
   "outputs": [],
   "source": [
    "fe = v.feature_extractor\n",
    "data = v.data_set.ext_df.tolist()\n",
    "_pred = v.data_set.tag_ids.tolist()\n",
    "ori = v.data_set.ori_df"
   ]
  },
  {
   "cell_type": "code",
   "execution_count": 16,
   "metadata": {},
   "outputs": [
    {
     "data": {
      "text/plain": [
       "\"[('enables', 'you'), ('retrieve', 'a Frame.io authenticated user'), ('enables', 'teams'), ('add', 'a collaborator'), ('using', 'a GET/POST request'), ('supports', 'SSL'), ('requires', 'a Bearer Token'), ('provides', 'professional video review and collaboration support'), ('provides', 'video teams'), ('track', 'the creative process'), ('track', 'a single workbench'), ('built', 'real working video creators')]\""
      ]
     },
     "execution_count": 16,
     "metadata": {},
     "output_type": "execute_result"
    }
   ],
   "source": [
    "v.data_set.ori_df.iloc[0,7]"
   ]
  },
  {
   "cell_type": "code",
   "execution_count": null,
   "metadata": {},
   "outputs": [],
   "source": [
    "v.query_ext([v.data_set.pos[1][0]])"
   ]
  },
  {
   "cell_type": "code",
   "execution_count": null,
   "metadata": {},
   "outputs": [],
   "source": [
    "v.data_set.ext_df.iloc[0]"
   ]
  },
  {
   "cell_type": "code",
   "execution_count": null,
   "metadata": {},
   "outputs": [],
   "source": [
    "v.data_set.raw_ids.iloc[0]"
   ]
  },
  {
   "cell_type": "code",
   "execution_count": 4,
   "metadata": {},
   "outputs": [
    {
     "name": "stdout",
     "output_type": "stream",
     "text": [
      "epoch:0,loss:38485050.0\n",
      "tensor(544.4614, device='cuda:0', grad_fn=<SumBackward0>)\n",
      "epoch:1,loss:38484969.5\n",
      "epoch:2,loss:38484962.0\n",
      "epoch:3,loss:38484961.5\n",
      "epoch:4,loss:38484959.5\n",
      "epoch:5,loss:38484957.5\n",
      "epoch:6,loss:38484957.5\n",
      "epoch:7,loss:38484957.5\n",
      "epoch:8,loss:38484957.5\n",
      "epoch:9,loss:38484957.5\n",
      "epoch:10,loss:38484957.5\n",
      "tensor(547.6866, device='cuda:0', grad_fn=<SumBackward0>)\n",
      "epoch:11,loss:38484957.5\n",
      "epoch:12,loss:38484957.5\n",
      "epoch:13,loss:38484957.5\n",
      "epoch:14,loss:38484957.5\n",
      "epoch:15,loss:38484957.5\n",
      "epoch:16,loss:38484957.5\n",
      "epoch:17,loss:38484957.5\n",
      "epoch:18,loss:38484957.5\n",
      "epoch:19,loss:38484957.5\n",
      "epoch:20,loss:38484957.5\n",
      "tensor(550.8525, device='cuda:0', grad_fn=<SumBackward0>)\n",
      "epoch:21,loss:38484957.5\n",
      "epoch:22,loss:38484957.5\n",
      "epoch:23,loss:38484957.5\n",
      "epoch:24,loss:38484957.5\n",
      "epoch:25,loss:38484957.5\n",
      "epoch:26,loss:38484957.5\n",
      "epoch:27,loss:38484957.5\n",
      "epoch:28,loss:38484957.5\n",
      "epoch:29,loss:38484957.5\n",
      "epoch:30,loss:38484957.5\n",
      "tensor(543.8370, device='cuda:0', grad_fn=<SumBackward0>)\n",
      "epoch:31,loss:38484957.5\n",
      "epoch:32,loss:38484957.5\n",
      "epoch:33,loss:38484957.5\n",
      "epoch:34,loss:38484957.5\n",
      "epoch:35,loss:38484957.5\n",
      "epoch:36,loss:38484957.5\n",
      "epoch:37,loss:38484957.5\n",
      "epoch:38,loss:38484957.5\n",
      "epoch:39,loss:38484957.5\n"
     ]
    }
   ],
   "source": [
    "v.train()"
   ]
  },
  {
   "cell_type": "code",
   "execution_count": 5,
   "metadata": {},
   "outputs": [],
   "source": [
    "\n",
    "# _,theta,*_ = fe(data,pred=_pred)\n",
    "_,theta,*_ = fe(data)"
   ]
  },
  {
   "cell_type": "code",
   "execution_count": 6,
   "metadata": {},
   "outputs": [],
   "source": [
    "def do_tsne(X):\n",
    "    tsne = TSNE(n_components=2)\n",
    "    new_x = tsne.fit_transform(X)\n",
    "    return new_x,tsne"
   ]
  },
  {
   "cell_type": "code",
   "execution_count": 7,
   "metadata": {},
   "outputs": [],
   "source": [
    "t,tsne = do_tsne(theta.cpu().detach())"
   ]
  },
  {
   "cell_type": "code",
   "execution_count": 8,
   "metadata": {},
   "outputs": [
    {
     "data": {
      "image/png": "[encoded data removed]",
      "text/plain": [
       "<Figure size 360x360 with 1 Axes>"
      ]
     },
     "metadata": {
      "needs_background": "light"
     },
     "output_type": "display_data"
    }
   ],
   "source": [
    "import matplotlib.pyplot as plt\n",
    "fig = plt.figure('enriched',(5,5))\n",
    "fig.text(0.35,0.9,'Original descriptions')\n",
    "ax = fig.add_subplot(111)\n",
    "ax.scatter(t[:,0],t[:,1])\n",
    "fig.show()"
   ]
  },
  {
   "cell_type": "code",
   "execution_count": 10,
   "metadata": {},
   "outputs": [],
   "source": [
    "from sklearn.cluster import KMeans,DBSCAN\n",
    "km = KMeans()\n",
    "db = DBSCAN()"
   ]
  },
  {
   "cell_type": "code",
   "execution_count": null,
   "metadata": {},
   "outputs": [],
   "source": [
    "r1 = km.fit_predict(t)\n",
    "r2 = db.fit_predict(theta.cpu().detach())"
   ]
  },
  {
   "cell_type": "code",
   "execution_count": null,
   "metadata": {},
   "outputs": [],
   "source": [
    "import matplotlib.pyplot as plt\n",
    "fig = plt.figure('enriched',(5,5))\n",
    "fig.text(0.35,0.9,'Original descriptions')\n",
    "ax = fig.add_subplot(111)\n",
    "ax.scatter(t[:,0],t[:,1],c=r1)\n",
    "\n",
    "fig.show()"
   ]
  },
  {
   "cell_type": "code",
   "execution_count": null,
   "metadata": {},
   "outputs": [],
   "source": [
    "ori[r1==1]"
   ]
  },
  {
   "cell_type": "code",
   "execution_count": null,
   "metadata": {},
   "outputs": [],
   "source": [
    "from eval.TagLSTMEval_topic import LSTMEval\n",
    "model = LSTMEval()"
   ]
  },
  {
   "cell_type": "code",
   "execution_count": null,
   "metadata": {},
   "outputs": [],
   "source": [
    "model.train()"
   ]
  },
  {
   "cell_type": "code",
   "execution_count": null,
   "metadata": {},
   "outputs": [],
   "source": [
    "torch.autograd.set_grad_enabled(False)\n",
    "\n",
    "for id1,id2,l in model.train_data_loader:\n",
    "    break\n",
    "in1 = model.get_BoWs(id1)    \n",
    "in2 = model.ext_df[id2]\n",
    "text2 = model.data_set[id2]"
   ]
  },
  {
   "cell_type": "code",
   "execution_count": null,
   "metadata": {},
   "outputs": [],
   "source": [
    "positives = torch.sort(l,descending=True)[1]"
   ]
  },
  {
   "cell_type": "code",
   "execution_count": null,
   "metadata": {},
   "outputs": [],
   "source": [
    "import torch\n",
    "f1,w1 = model.feature_extractor([torch.LongTensor(s) for s in id1],in1,model.vae)"
   ]
  },
  {
   "cell_type": "code",
   "execution_count": null,
   "metadata": {},
   "outputs": [],
   "source": [
    "k = positives[2].item()\n",
    "w1[k]"
   ]
  },
  {
   "cell_type": "code",
   "execution_count": null,
   "metadata": {},
   "outputs": [],
   "source": [
    "[model.di.id2token[_i] for _i in id1[k]]"
   ]
  },
  {
   "cell_type": "code",
   "execution_count": null,
   "metadata": {},
   "outputs": [],
   "source": [
    "f2,w2 = model.feature_extractor(text2,in2,model.vae)"
   ]
  },
  {
   "cell_type": "code",
   "execution_count": null,
   "metadata": {},
   "outputs": [],
   "source": [
    "[model.di.id2token[_i] for _i in text2.iloc[k].numpy().tolist()]"
   ]
  },
  {
   "cell_type": "code",
   "execution_count": null,
   "metadata": {},
   "outputs": [],
   "source": [
    "word_mask = (w2[k]>0.5).squeeze()[:len(text2.iloc[k])]"
   ]
  },
  {
   "cell_type": "code",
   "execution_count": null,
   "metadata": {},
   "outputs": [],
   "source": [
    "[model.di.id2token[_i] for _i in text2.iloc[k][word_mask].numpy().tolist()]"
   ]
  },
  {
   "cell_type": "code",
   "execution_count": null,
   "metadata": {},
   "outputs": [],
   "source": [
    "model.cos(f1,f2)[k]"
   ]
  },
  {
   "cell_type": "code",
   "execution_count": null,
   "metadata": {},
   "outputs": [],
   "source": [
    "for id1 in model.test_keys:\n",
    "    break\n",
    "pos = list(model.data_set.pos[id1][1])\n",
    "text_bow = model.get_BoWs([model.data_set.pos[id1][0]])\n",
    "text = [torch.LongTensor(model.data_set.pos[id1][0])]"
   ]
  },
  {
   "cell_type": "code",
   "execution_count": null,
   "metadata": {},
   "outputs": [],
   "source": [
    "[model.di.id2token[_i] for _i in text[0].numpy()]"
   ]
  },
  {
   "cell_type": "code",
   "execution_count": null,
   "metadata": {},
   "outputs": [],
   "source": [
    "all_f = []\n",
    "for _ids in model.ids_loader:\n",
    "    _t = model.data_set[_ids.cpu().numpy()]\n",
    "#   _b = self.bow[_ids.cpu().numpy()]\n",
    "    _b = model.ext_df[_ids.cpu().numpy()]\n",
    "    _f,*_ = model.feature_extractor(_t,_b,model.vae)\n",
    "\n",
    "    all_f.append(_f.cpu())\n",
    "all_f = torch.cat(all_f,dim = 0).view(len(model.data_set),-1)"
   ]
  },
  {
   "cell_type": "code",
   "execution_count": null,
   "metadata": {},
   "outputs": [],
   "source": [
    "torch.cuda.empty_cache()"
   ]
  },
  {
   "cell_type": "code",
   "execution_count": null,
   "metadata": {},
   "outputs": [],
   "source": []
  },
  {
   "cell_type": "code",
   "execution_count": null,
   "metadata": {},
   "outputs": [],
   "source": []
  }
 ],
 "metadata": {
  "interpreter": {
   "hash": "caf1c2fcf97217de91eafa76b907d50f9ea378f5ffbee7f571142d119bb6a771"
  },
  "kernelspec": {
   "display_name": "Python 3",
   "language": "python",
   "name": "python3"
  },
  "language_info": {
   "codemirror_mode": {
    "name": "ipython",
    "version": 3
   },
   "file_extension": ".py",
   "mimetype": "text/x-python",
   "name": "python",
   "nbconvert_exporter": "python",
   "pygments_lexer": "ipython3",
   "version": "3.8.5"
  }
 },
 "nbformat": 4,
 "nbformat_minor": 4
}
